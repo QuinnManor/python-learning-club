{
 "cells": [
  {
   "cell_type": "markdown",
   "metadata": {},
   "source": [
    "# Hip Hop Analysis Overview\n",
    "Using a hip hip dataset to learn the fundamentals of Jupyter and data analyst concepts:\n",
    "- Data Cleaning\n",
    "- Data Visualization\n",
    "- Exploratory Data Analysis"
   ]
  },
  {
   "cell_type": "markdown",
   "metadata": {},
   "source": [
    "# Environment Setup\n",
    "## Loading Dependencies"
   ]
  },
  {
   "cell_type": "code",
   "execution_count": 1,
   "metadata": {
    "ExecuteTime": {
     "end_time": "2020-06-27T15:15:17.747928Z",
     "start_time": "2020-06-27T15:15:15.786342Z"
    }
   },
   "outputs": [],
   "source": [
    "import pandas as pd"
   ]
  },
  {
   "cell_type": "markdown",
   "metadata": {},
   "source": [
    "## Importing Our Hip Hop Dataset\n",
    "The dataset was found on datpiff.com, but we've placed it in our directory structure and will import the data from there!"
   ]
  },
  {
   "cell_type": "code",
   "execution_count": 2,
   "metadata": {
    "ExecuteTime": {
     "end_time": "2020-06-27T15:15:17.811424Z",
     "start_time": "2020-06-27T15:15:17.751524Z"
    },
    "scrolled": false
   },
   "outputs": [],
   "source": [
    "file_path = './hip_hop_mixtapes - Listens.csv' # Defining the file path\n",
    "hip_hop_data = pd.read_csv(file_path, parse_dates=['Release Date']) # Reading in our .csv with pandas\n",
    "hip_hop = hip_hop_data.copy()"
   ]
  },
  {
   "cell_type": "code",
   "execution_count": 3,
   "metadata": {
    "ExecuteTime": {
     "end_time": "2020-06-27T15:15:18.104708Z",
     "start_time": "2020-06-27T15:15:17.836165Z"
    }
   },
   "outputs": [
    {
     "data": {
      "text/plain": [
       "(61, 8)"
      ]
     },
     "metadata": {},
     "output_type": "display_data"
    },
    {
     "data": {
      "text/plain": [
       "Index(['Album Name', 'Artist', 'listens', 'Number of Songs',\n",
       "       'Shortest Song Duration', 'Longest Duration', 'Album Duration',\n",
       "       'Release Date'],\n",
       "      dtype='object')"
      ]
     },
     "metadata": {},
     "output_type": "display_data"
    },
    {
     "data": {
      "text/html": [
       "<div>\n",
       "<style scoped>\n",
       "    .dataframe tbody tr th:only-of-type {\n",
       "        vertical-align: middle;\n",
       "    }\n",
       "\n",
       "    .dataframe tbody tr th {\n",
       "        vertical-align: top;\n",
       "    }\n",
       "\n",
       "    .dataframe thead th {\n",
       "        text-align: right;\n",
       "    }\n",
       "</style>\n",
       "<table border=\"1\" class=\"dataframe\">\n",
       "  <thead>\n",
       "    <tr style=\"text-align: right;\">\n",
       "      <th></th>\n",
       "      <th>Album Name</th>\n",
       "      <th>Artist</th>\n",
       "      <th>listens</th>\n",
       "      <th>Number of Songs</th>\n",
       "      <th>Shortest Song Duration</th>\n",
       "      <th>Longest Duration</th>\n",
       "      <th>Album Duration</th>\n",
       "      <th>Release Date</th>\n",
       "    </tr>\n",
       "  </thead>\n",
       "  <tbody>\n",
       "    <tr>\n",
       "      <th>0</th>\n",
       "      <td>The Kanan Tape</td>\n",
       "      <td>50 Cent</td>\n",
       "      <td>2,968,652</td>\n",
       "      <td>7</td>\n",
       "      <td>2:43</td>\n",
       "      <td>4:45</td>\n",
       "      <td>0:25:04</td>\n",
       "      <td>2015-12-09</td>\n",
       "    </tr>\n",
       "    <tr>\n",
       "      <th>1</th>\n",
       "      <td>LiveLoveA$Ap</td>\n",
       "      <td>ASAP Rocky</td>\n",
       "      <td>1,701,695</td>\n",
       "      <td>16</td>\n",
       "      <td>2:38</td>\n",
       "      <td>4:52</td>\n",
       "      <td>0:53:41</td>\n",
       "      <td>2011-10-31</td>\n",
       "    </tr>\n",
       "    <tr>\n",
       "      <th>2</th>\n",
       "      <td>Detroit</td>\n",
       "      <td>Big Sean</td>\n",
       "      <td>1,755,528</td>\n",
       "      <td>18</td>\n",
       "      <td>2:19</td>\n",
       "      <td>5:36</td>\n",
       "      <td>1:07:58</td>\n",
       "      <td>2012-09-05</td>\n",
       "    </tr>\n",
       "    <tr>\n",
       "      <th>3</th>\n",
       "      <td>Acid Rap</td>\n",
       "      <td>Chance The Rapper</td>\n",
       "      <td>2,093,978</td>\n",
       "      <td>14</td>\n",
       "      <td>2:19</td>\n",
       "      <td>5:33</td>\n",
       "      <td>0:53:52</td>\n",
       "      <td>2013-04-30</td>\n",
       "    </tr>\n",
       "    <tr>\n",
       "      <th>4</th>\n",
       "      <td>Coloring Book</td>\n",
       "      <td>Chance The Rapper</td>\n",
       "      <td>1,950,537</td>\n",
       "      <td>14</td>\n",
       "      <td>1:41</td>\n",
       "      <td>6:46</td>\n",
       "      <td>0:57:14</td>\n",
       "      <td>2016-05-13</td>\n",
       "    </tr>\n",
       "  </tbody>\n",
       "</table>\n",
       "</div>"
      ],
      "text/plain": [
       "       Album Name             Artist    listens  Number of Songs  \\\n",
       "0  The Kanan Tape            50 Cent  2,968,652                7   \n",
       "1    LiveLoveA$Ap         ASAP Rocky  1,701,695               16   \n",
       "2         Detroit           Big Sean  1,755,528               18   \n",
       "3        Acid Rap  Chance The Rapper  2,093,978               14   \n",
       "4   Coloring Book  Chance The Rapper  1,950,537               14   \n",
       "\n",
       "  Shortest Song Duration Longest Duration Album Duration Release Date  \n",
       "0                   2:43             4:45        0:25:04   2015-12-09  \n",
       "1                   2:38             4:52        0:53:41   2011-10-31  \n",
       "2                   2:19             5:36        1:07:58   2012-09-05  \n",
       "3                   2:19             5:33        0:53:52   2013-04-30  \n",
       "4                   1:41             6:46        0:57:14   2016-05-13  "
      ]
     },
     "metadata": {},
     "output_type": "display_data"
    },
    {
     "data": {
      "text/html": [
       "<div>\n",
       "<style scoped>\n",
       "    .dataframe tbody tr th:only-of-type {\n",
       "        vertical-align: middle;\n",
       "    }\n",
       "\n",
       "    .dataframe tbody tr th {\n",
       "        vertical-align: top;\n",
       "    }\n",
       "\n",
       "    .dataframe thead th {\n",
       "        text-align: right;\n",
       "    }\n",
       "</style>\n",
       "<table border=\"1\" class=\"dataframe\">\n",
       "  <thead>\n",
       "    <tr style=\"text-align: right;\">\n",
       "      <th></th>\n",
       "      <th>Album Name</th>\n",
       "      <th>Artist</th>\n",
       "      <th>listens</th>\n",
       "      <th>Number of Songs</th>\n",
       "      <th>Shortest Song Duration</th>\n",
       "      <th>Longest Duration</th>\n",
       "      <th>Album Duration</th>\n",
       "      <th>Release Date</th>\n",
       "    </tr>\n",
       "  </thead>\n",
       "  <tbody>\n",
       "    <tr>\n",
       "      <th>56</th>\n",
       "      <td>I'm Up</td>\n",
       "      <td>Young Thug</td>\n",
       "      <td>1,296,629</td>\n",
       "      <td>9</td>\n",
       "      <td>3:45</td>\n",
       "      <td>5:04</td>\n",
       "      <td>0:38:03</td>\n",
       "      <td>2016-02-05</td>\n",
       "    </tr>\n",
       "    <tr>\n",
       "      <th>57</th>\n",
       "      <td>No, My Name Is Jeffery</td>\n",
       "      <td>Young Thug</td>\n",
       "      <td>1,352,267</td>\n",
       "      <td>10</td>\n",
       "      <td>2:45</td>\n",
       "      <td>6:01</td>\n",
       "      <td>0:42:15</td>\n",
       "      <td>2016-08-26</td>\n",
       "    </tr>\n",
       "    <tr>\n",
       "      <th>58</th>\n",
       "      <td>Slime Season</td>\n",
       "      <td>Young Thug</td>\n",
       "      <td>3,214,521</td>\n",
       "      <td>18</td>\n",
       "      <td>2:41</td>\n",
       "      <td>5:33</td>\n",
       "      <td>1:10:06</td>\n",
       "      <td>2015-09-16</td>\n",
       "    </tr>\n",
       "    <tr>\n",
       "      <th>59</th>\n",
       "      <td>Slime Season 2</td>\n",
       "      <td>NaN</td>\n",
       "      <td>2,857,852</td>\n",
       "      <td>22</td>\n",
       "      <td>3:02</td>\n",
       "      <td>4:57</td>\n",
       "      <td>1:27:38</td>\n",
       "      <td>2015-10-31</td>\n",
       "    </tr>\n",
       "    <tr>\n",
       "      <th>60</th>\n",
       "      <td>Slime Season 3</td>\n",
       "      <td>Young Thug</td>\n",
       "      <td>1,841,168</td>\n",
       "      <td>8</td>\n",
       "      <td>2:56</td>\n",
       "      <td>4:38</td>\n",
       "      <td>0:28:20</td>\n",
       "      <td>2016-03-25</td>\n",
       "    </tr>\n",
       "  </tbody>\n",
       "</table>\n",
       "</div>"
      ],
      "text/plain": [
       "                Album Name      Artist    listens  Number of Songs  \\\n",
       "56                  I'm Up  Young Thug  1,296,629                9   \n",
       "57  No, My Name Is Jeffery  Young Thug  1,352,267               10   \n",
       "58            Slime Season  Young Thug  3,214,521               18   \n",
       "59          Slime Season 2         NaN  2,857,852               22   \n",
       "60          Slime Season 3  Young Thug  1,841,168                8   \n",
       "\n",
       "   Shortest Song Duration Longest Duration Album Duration Release Date  \n",
       "56                   3:45             5:04        0:38:03   2016-02-05  \n",
       "57                   2:45             6:01        0:42:15   2016-08-26  \n",
       "58                   2:41             5:33        1:10:06   2015-09-16  \n",
       "59                   3:02             4:57        1:27:38   2015-10-31  \n",
       "60                   2:56             4:38        0:28:20   2016-03-25  "
      ]
     },
     "metadata": {},
     "output_type": "display_data"
    },
    {
     "name": "stdout",
     "output_type": "stream",
     "text": [
      "<class 'pandas.core.frame.DataFrame'>\n",
      "RangeIndex: 61 entries, 0 to 60\n",
      "Data columns (total 8 columns):\n",
      " #   Column                  Non-Null Count  Dtype         \n",
      "---  ------                  --------------  -----         \n",
      " 0   Album Name              61 non-null     object        \n",
      " 1   Artist                  59 non-null     object        \n",
      " 2   listens                 61 non-null     object        \n",
      " 3   Number of Songs         61 non-null     int64         \n",
      " 4   Shortest Song Duration  57 non-null     object        \n",
      " 5   Longest Duration        57 non-null     object        \n",
      " 6   Album Duration          54 non-null     object        \n",
      " 7   Release Date            61 non-null     datetime64[ns]\n",
      "dtypes: datetime64[ns](1), int64(1), object(6)\n",
      "memory usage: 3.9+ KB\n"
     ]
    },
    {
     "data": {
      "text/plain": [
       "None"
      ]
     },
     "metadata": {},
     "output_type": "display_data"
    }
   ],
   "source": [
    "# Quick exploration of data\n",
    "display(hip_hop_data.shape)\n",
    "display(hip_hop_data.columns)\n",
    "display(hip_hop_data.head())\n",
    "display(hip_hop_data.tail())\n",
    "display(hip_hop_data.info(null_counts=True))"
   ]
  },
  {
   "cell_type": "markdown",
   "metadata": {},
   "source": [
    "# Data Cleaning\n",
    "As we can see from our quick exploration above, we can note that we'll need to clean the following:\n",
    "- Column Headers\n",
    "- Remove commas from listens\n",
    "- Convert types\n",
    "    - listens\n",
    "    - Number of Songs\n",
    "    \n",
    "## Column Headers\n",
    "Column headers are inconsistent formatting, so we'll convert them all to snake casing."
   ]
  },
  {
   "cell_type": "code",
   "execution_count": 4,
   "metadata": {
    "ExecuteTime": {
     "end_time": "2020-06-27T15:15:18.144675Z",
     "start_time": "2020-06-27T15:15:18.112155Z"
    }
   },
   "outputs": [
    {
     "data": {
      "text/plain": [
       "Index(['Album Name', 'Artist', 'listens', 'Number of Songs',\n",
       "       'Shortest Song Duration', 'Longest Duration', 'Album Duration',\n",
       "       'Release Date'],\n",
       "      dtype='object')"
      ]
     },
     "execution_count": 4,
     "metadata": {},
     "output_type": "execute_result"
    }
   ],
   "source": [
    "hip_hop.columns"
   ]
  },
  {
   "cell_type": "code",
   "execution_count": 5,
   "metadata": {
    "ExecuteTime": {
     "end_time": "2020-06-27T15:15:18.212402Z",
     "start_time": "2020-06-27T15:15:18.180699Z"
    },
    "hide_input": false
   },
   "outputs": [
    {
     "data": {
      "text/plain": [
       "['album_name',\n",
       " 'artist',\n",
       " 'listens',\n",
       " 'number_of_songs',\n",
       " 'shortest_song_duration',\n",
       " 'longest_duration',\n",
       " 'album_duration',\n",
       " 'release_date']"
      ]
     },
     "execution_count": 5,
     "metadata": {},
     "output_type": "execute_result"
    }
   ],
   "source": [
    "col_headers = list(hip_hop.columns)\n",
    "formatted_col_headers = []\n",
    "\n",
    "for col in col_headers:\n",
    "    col = col.replace(\" \", \"_\")\n",
    "    formatted_col_headers.append(col.lower())\n",
    "    \n",
    "formatted_col_headers"
   ]
  },
  {
   "cell_type": "code",
   "execution_count": 6,
   "metadata": {
    "ExecuteTime": {
     "end_time": "2020-06-27T15:15:18.416617Z",
     "start_time": "2020-06-27T15:15:18.240877Z"
    },
    "scrolled": false
   },
   "outputs": [
    {
     "data": {
      "text/html": [
       "<div>\n",
       "<style scoped>\n",
       "    .dataframe tbody tr th:only-of-type {\n",
       "        vertical-align: middle;\n",
       "    }\n",
       "\n",
       "    .dataframe tbody tr th {\n",
       "        vertical-align: top;\n",
       "    }\n",
       "\n",
       "    .dataframe thead th {\n",
       "        text-align: right;\n",
       "    }\n",
       "</style>\n",
       "<table border=\"1\" class=\"dataframe\">\n",
       "  <thead>\n",
       "    <tr style=\"text-align: right;\">\n",
       "      <th></th>\n",
       "      <th>album_name</th>\n",
       "      <th>artist</th>\n",
       "      <th>listens</th>\n",
       "      <th>number_of_songs</th>\n",
       "      <th>shortest_song_duration</th>\n",
       "      <th>longest_duration</th>\n",
       "      <th>album_duration</th>\n",
       "      <th>release_date</th>\n",
       "    </tr>\n",
       "  </thead>\n",
       "  <tbody>\n",
       "    <tr>\n",
       "      <th>0</th>\n",
       "      <td>The Kanan Tape</td>\n",
       "      <td>50 Cent</td>\n",
       "      <td>2,968,652</td>\n",
       "      <td>7</td>\n",
       "      <td>2:43</td>\n",
       "      <td>4:45</td>\n",
       "      <td>0:25:04</td>\n",
       "      <td>2015-12-09</td>\n",
       "    </tr>\n",
       "    <tr>\n",
       "      <th>1</th>\n",
       "      <td>LiveLoveA$Ap</td>\n",
       "      <td>ASAP Rocky</td>\n",
       "      <td>1,701,695</td>\n",
       "      <td>16</td>\n",
       "      <td>2:38</td>\n",
       "      <td>4:52</td>\n",
       "      <td>0:53:41</td>\n",
       "      <td>2011-10-31</td>\n",
       "    </tr>\n",
       "    <tr>\n",
       "      <th>2</th>\n",
       "      <td>Detroit</td>\n",
       "      <td>Big Sean</td>\n",
       "      <td>1,755,528</td>\n",
       "      <td>18</td>\n",
       "      <td>2:19</td>\n",
       "      <td>5:36</td>\n",
       "      <td>1:07:58</td>\n",
       "      <td>2012-09-05</td>\n",
       "    </tr>\n",
       "    <tr>\n",
       "      <th>3</th>\n",
       "      <td>Acid Rap</td>\n",
       "      <td>Chance The Rapper</td>\n",
       "      <td>2,093,978</td>\n",
       "      <td>14</td>\n",
       "      <td>2:19</td>\n",
       "      <td>5:33</td>\n",
       "      <td>0:53:52</td>\n",
       "      <td>2013-04-30</td>\n",
       "    </tr>\n",
       "    <tr>\n",
       "      <th>4</th>\n",
       "      <td>Coloring Book</td>\n",
       "      <td>Chance The Rapper</td>\n",
       "      <td>1,950,537</td>\n",
       "      <td>14</td>\n",
       "      <td>1:41</td>\n",
       "      <td>6:46</td>\n",
       "      <td>0:57:14</td>\n",
       "      <td>2016-05-13</td>\n",
       "    </tr>\n",
       "    <tr>\n",
       "      <th>...</th>\n",
       "      <td>...</td>\n",
       "      <td>...</td>\n",
       "      <td>...</td>\n",
       "      <td>...</td>\n",
       "      <td>...</td>\n",
       "      <td>...</td>\n",
       "      <td>...</td>\n",
       "      <td>...</td>\n",
       "    </tr>\n",
       "    <tr>\n",
       "      <th>56</th>\n",
       "      <td>I'm Up</td>\n",
       "      <td>Young Thug</td>\n",
       "      <td>1,296,629</td>\n",
       "      <td>9</td>\n",
       "      <td>3:45</td>\n",
       "      <td>5:04</td>\n",
       "      <td>0:38:03</td>\n",
       "      <td>2016-02-05</td>\n",
       "    </tr>\n",
       "    <tr>\n",
       "      <th>57</th>\n",
       "      <td>No, My Name Is Jeffery</td>\n",
       "      <td>Young Thug</td>\n",
       "      <td>1,352,267</td>\n",
       "      <td>10</td>\n",
       "      <td>2:45</td>\n",
       "      <td>6:01</td>\n",
       "      <td>0:42:15</td>\n",
       "      <td>2016-08-26</td>\n",
       "    </tr>\n",
       "    <tr>\n",
       "      <th>58</th>\n",
       "      <td>Slime Season</td>\n",
       "      <td>Young Thug</td>\n",
       "      <td>3,214,521</td>\n",
       "      <td>18</td>\n",
       "      <td>2:41</td>\n",
       "      <td>5:33</td>\n",
       "      <td>1:10:06</td>\n",
       "      <td>2015-09-16</td>\n",
       "    </tr>\n",
       "    <tr>\n",
       "      <th>59</th>\n",
       "      <td>Slime Season 2</td>\n",
       "      <td>NaN</td>\n",
       "      <td>2,857,852</td>\n",
       "      <td>22</td>\n",
       "      <td>3:02</td>\n",
       "      <td>4:57</td>\n",
       "      <td>1:27:38</td>\n",
       "      <td>2015-10-31</td>\n",
       "    </tr>\n",
       "    <tr>\n",
       "      <th>60</th>\n",
       "      <td>Slime Season 3</td>\n",
       "      <td>Young Thug</td>\n",
       "      <td>1,841,168</td>\n",
       "      <td>8</td>\n",
       "      <td>2:56</td>\n",
       "      <td>4:38</td>\n",
       "      <td>0:28:20</td>\n",
       "      <td>2016-03-25</td>\n",
       "    </tr>\n",
       "  </tbody>\n",
       "</table>\n",
       "<p>61 rows × 8 columns</p>\n",
       "</div>"
      ],
      "text/plain": [
       "                album_name             artist    listens  number_of_songs  \\\n",
       "0           The Kanan Tape            50 Cent  2,968,652                7   \n",
       "1             LiveLoveA$Ap         ASAP Rocky  1,701,695               16   \n",
       "2                  Detroit           Big Sean  1,755,528               18   \n",
       "3                 Acid Rap  Chance The Rapper  2,093,978               14   \n",
       "4            Coloring Book  Chance The Rapper  1,950,537               14   \n",
       "..                     ...                ...        ...              ...   \n",
       "56                  I'm Up         Young Thug  1,296,629                9   \n",
       "57  No, My Name Is Jeffery         Young Thug  1,352,267               10   \n",
       "58            Slime Season         Young Thug  3,214,521               18   \n",
       "59          Slime Season 2                NaN  2,857,852               22   \n",
       "60          Slime Season 3         Young Thug  1,841,168                8   \n",
       "\n",
       "   shortest_song_duration longest_duration album_duration release_date  \n",
       "0                    2:43             4:45        0:25:04   2015-12-09  \n",
       "1                    2:38             4:52        0:53:41   2011-10-31  \n",
       "2                    2:19             5:36        1:07:58   2012-09-05  \n",
       "3                    2:19             5:33        0:53:52   2013-04-30  \n",
       "4                    1:41             6:46        0:57:14   2016-05-13  \n",
       "..                    ...              ...            ...          ...  \n",
       "56                   3:45             5:04        0:38:03   2016-02-05  \n",
       "57                   2:45             6:01        0:42:15   2016-08-26  \n",
       "58                   2:41             5:33        1:10:06   2015-09-16  \n",
       "59                   3:02             4:57        1:27:38   2015-10-31  \n",
       "60                   2:56             4:38        0:28:20   2016-03-25  \n",
       "\n",
       "[61 rows x 8 columns]"
      ]
     },
     "execution_count": 6,
     "metadata": {},
     "output_type": "execute_result"
    }
   ],
   "source": [
    "hip_hop.columns = formatted_col_headers\n",
    "hip_hop.columns\n",
    "hip_hop"
   ]
  },
  {
   "cell_type": "markdown",
   "metadata": {},
   "source": [
    "## Removing Delimiters\n",
    "We noticed that listens has commas and we want to remove these"
   ]
  },
  {
   "cell_type": "code",
   "execution_count": 7,
   "metadata": {
    "ExecuteTime": {
     "end_time": "2020-06-27T15:15:18.541723Z",
     "start_time": "2020-06-27T15:15:18.424291Z"
    }
   },
   "outputs": [
    {
     "data": {
      "text/html": [
       "<div>\n",
       "<style scoped>\n",
       "    .dataframe tbody tr th:only-of-type {\n",
       "        vertical-align: middle;\n",
       "    }\n",
       "\n",
       "    .dataframe tbody tr th {\n",
       "        vertical-align: top;\n",
       "    }\n",
       "\n",
       "    .dataframe thead th {\n",
       "        text-align: right;\n",
       "    }\n",
       "</style>\n",
       "<table border=\"1\" class=\"dataframe\">\n",
       "  <thead>\n",
       "    <tr style=\"text-align: right;\">\n",
       "      <th></th>\n",
       "      <th>album_name</th>\n",
       "      <th>artist</th>\n",
       "      <th>listens</th>\n",
       "      <th>number_of_songs</th>\n",
       "      <th>shortest_song_duration</th>\n",
       "      <th>longest_duration</th>\n",
       "      <th>album_duration</th>\n",
       "      <th>release_date</th>\n",
       "    </tr>\n",
       "  </thead>\n",
       "  <tbody>\n",
       "    <tr>\n",
       "      <th>0</th>\n",
       "      <td>The Kanan Tape</td>\n",
       "      <td>50 Cent</td>\n",
       "      <td>2968652</td>\n",
       "      <td>7</td>\n",
       "      <td>2:43</td>\n",
       "      <td>4:45</td>\n",
       "      <td>0:25:04</td>\n",
       "      <td>2015-12-09</td>\n",
       "    </tr>\n",
       "    <tr>\n",
       "      <th>1</th>\n",
       "      <td>LiveLoveA$Ap</td>\n",
       "      <td>ASAP Rocky</td>\n",
       "      <td>1701695</td>\n",
       "      <td>16</td>\n",
       "      <td>2:38</td>\n",
       "      <td>4:52</td>\n",
       "      <td>0:53:41</td>\n",
       "      <td>2011-10-31</td>\n",
       "    </tr>\n",
       "    <tr>\n",
       "      <th>2</th>\n",
       "      <td>Detroit</td>\n",
       "      <td>Big Sean</td>\n",
       "      <td>1755528</td>\n",
       "      <td>18</td>\n",
       "      <td>2:19</td>\n",
       "      <td>5:36</td>\n",
       "      <td>1:07:58</td>\n",
       "      <td>2012-09-05</td>\n",
       "    </tr>\n",
       "    <tr>\n",
       "      <th>3</th>\n",
       "      <td>Acid Rap</td>\n",
       "      <td>Chance The Rapper</td>\n",
       "      <td>2093978</td>\n",
       "      <td>14</td>\n",
       "      <td>2:19</td>\n",
       "      <td>5:33</td>\n",
       "      <td>0:53:52</td>\n",
       "      <td>2013-04-30</td>\n",
       "    </tr>\n",
       "    <tr>\n",
       "      <th>4</th>\n",
       "      <td>Coloring Book</td>\n",
       "      <td>Chance The Rapper</td>\n",
       "      <td>1950537</td>\n",
       "      <td>14</td>\n",
       "      <td>1:41</td>\n",
       "      <td>6:46</td>\n",
       "      <td>0:57:14</td>\n",
       "      <td>2016-05-13</td>\n",
       "    </tr>\n",
       "    <tr>\n",
       "      <th>...</th>\n",
       "      <td>...</td>\n",
       "      <td>...</td>\n",
       "      <td>...</td>\n",
       "      <td>...</td>\n",
       "      <td>...</td>\n",
       "      <td>...</td>\n",
       "      <td>...</td>\n",
       "      <td>...</td>\n",
       "    </tr>\n",
       "    <tr>\n",
       "      <th>56</th>\n",
       "      <td>I'm Up</td>\n",
       "      <td>Young Thug</td>\n",
       "      <td>1296629</td>\n",
       "      <td>9</td>\n",
       "      <td>3:45</td>\n",
       "      <td>5:04</td>\n",
       "      <td>0:38:03</td>\n",
       "      <td>2016-02-05</td>\n",
       "    </tr>\n",
       "    <tr>\n",
       "      <th>57</th>\n",
       "      <td>No, My Name Is Jeffery</td>\n",
       "      <td>Young Thug</td>\n",
       "      <td>1352267</td>\n",
       "      <td>10</td>\n",
       "      <td>2:45</td>\n",
       "      <td>6:01</td>\n",
       "      <td>0:42:15</td>\n",
       "      <td>2016-08-26</td>\n",
       "    </tr>\n",
       "    <tr>\n",
       "      <th>58</th>\n",
       "      <td>Slime Season</td>\n",
       "      <td>Young Thug</td>\n",
       "      <td>3214521</td>\n",
       "      <td>18</td>\n",
       "      <td>2:41</td>\n",
       "      <td>5:33</td>\n",
       "      <td>1:10:06</td>\n",
       "      <td>2015-09-16</td>\n",
       "    </tr>\n",
       "    <tr>\n",
       "      <th>59</th>\n",
       "      <td>Slime Season 2</td>\n",
       "      <td>NaN</td>\n",
       "      <td>2857852</td>\n",
       "      <td>22</td>\n",
       "      <td>3:02</td>\n",
       "      <td>4:57</td>\n",
       "      <td>1:27:38</td>\n",
       "      <td>2015-10-31</td>\n",
       "    </tr>\n",
       "    <tr>\n",
       "      <th>60</th>\n",
       "      <td>Slime Season 3</td>\n",
       "      <td>Young Thug</td>\n",
       "      <td>1841168</td>\n",
       "      <td>8</td>\n",
       "      <td>2:56</td>\n",
       "      <td>4:38</td>\n",
       "      <td>0:28:20</td>\n",
       "      <td>2016-03-25</td>\n",
       "    </tr>\n",
       "  </tbody>\n",
       "</table>\n",
       "<p>61 rows × 8 columns</p>\n",
       "</div>"
      ],
      "text/plain": [
       "                album_name             artist  listens  number_of_songs  \\\n",
       "0           The Kanan Tape            50 Cent  2968652                7   \n",
       "1             LiveLoveA$Ap         ASAP Rocky  1701695               16   \n",
       "2                  Detroit           Big Sean  1755528               18   \n",
       "3                 Acid Rap  Chance The Rapper  2093978               14   \n",
       "4            Coloring Book  Chance The Rapper  1950537               14   \n",
       "..                     ...                ...      ...              ...   \n",
       "56                  I'm Up         Young Thug  1296629                9   \n",
       "57  No, My Name Is Jeffery         Young Thug  1352267               10   \n",
       "58            Slime Season         Young Thug  3214521               18   \n",
       "59          Slime Season 2                NaN  2857852               22   \n",
       "60          Slime Season 3         Young Thug  1841168                8   \n",
       "\n",
       "   shortest_song_duration longest_duration album_duration release_date  \n",
       "0                    2:43             4:45        0:25:04   2015-12-09  \n",
       "1                    2:38             4:52        0:53:41   2011-10-31  \n",
       "2                    2:19             5:36        1:07:58   2012-09-05  \n",
       "3                    2:19             5:33        0:53:52   2013-04-30  \n",
       "4                    1:41             6:46        0:57:14   2016-05-13  \n",
       "..                    ...              ...            ...          ...  \n",
       "56                   3:45             5:04        0:38:03   2016-02-05  \n",
       "57                   2:45             6:01        0:42:15   2016-08-26  \n",
       "58                   2:41             5:33        1:10:06   2015-09-16  \n",
       "59                   3:02             4:57        1:27:38   2015-10-31  \n",
       "60                   2:56             4:38        0:28:20   2016-03-25  \n",
       "\n",
       "[61 rows x 8 columns]"
      ]
     },
     "execution_count": 7,
     "metadata": {},
     "output_type": "execute_result"
    }
   ],
   "source": [
    "hip_hop.listens = hip_hop.listens.apply(lambda row: row.replace(',', ''))\n",
    "hip_hop"
   ]
  },
  {
   "cell_type": "markdown",
   "metadata": {},
   "source": [
    "## Convert Types\n",
    "We notice now that, listens is a string object. Since we'll eventually want to do some calculations, we'll need to convert this to a int."
   ]
  },
  {
   "cell_type": "code",
   "execution_count": 8,
   "metadata": {
    "ExecuteTime": {
     "end_time": "2020-06-27T15:15:18.573718Z",
     "start_time": "2020-06-27T15:15:18.550362Z"
    }
   },
   "outputs": [
    {
     "name": "stdout",
     "output_type": "stream",
     "text": [
      "<class 'pandas.core.frame.DataFrame'>\n",
      "RangeIndex: 61 entries, 0 to 60\n",
      "Data columns (total 8 columns):\n",
      " #   Column                  Non-Null Count  Dtype         \n",
      "---  ------                  --------------  -----         \n",
      " 0   album_name              61 non-null     object        \n",
      " 1   artist                  59 non-null     object        \n",
      " 2   listens                 61 non-null     object        \n",
      " 3   number_of_songs         61 non-null     int64         \n",
      " 4   shortest_song_duration  57 non-null     object        \n",
      " 5   longest_duration        57 non-null     object        \n",
      " 6   album_duration          54 non-null     object        \n",
      " 7   release_date            61 non-null     datetime64[ns]\n",
      "dtypes: datetime64[ns](1), int64(1), object(6)\n",
      "memory usage: 23.8 KB\n"
     ]
    }
   ],
   "source": [
    "hip_hop.info(null_counts=True, memory_usage='deep')"
   ]
  },
  {
   "cell_type": "code",
   "execution_count": 9,
   "metadata": {
    "ExecuteTime": {
     "end_time": "2020-06-27T15:15:18.606808Z",
     "start_time": "2020-06-27T15:15:18.584564Z"
    }
   },
   "outputs": [],
   "source": [
    "hip_hop.listens = hip_hop.listens.astype('int32')\n",
    "hip_hop.number_of_songs = hip_hop.number_of_songs.astype('int32')"
   ]
  },
  {
   "cell_type": "code",
   "execution_count": 10,
   "metadata": {
    "ExecuteTime": {
     "end_time": "2020-06-27T15:15:18.639442Z",
     "start_time": "2020-06-27T15:15:18.610570Z"
    }
   },
   "outputs": [
    {
     "name": "stdout",
     "output_type": "stream",
     "text": [
      "<class 'pandas.core.frame.DataFrame'>\n",
      "RangeIndex: 61 entries, 0 to 60\n",
      "Data columns (total 8 columns):\n",
      " #   Column                  Non-Null Count  Dtype         \n",
      "---  ------                  --------------  -----         \n",
      " 0   album_name              61 non-null     object        \n",
      " 1   artist                  59 non-null     object        \n",
      " 2   listens                 61 non-null     int32         \n",
      " 3   number_of_songs         61 non-null     int32         \n",
      " 4   shortest_song_duration  57 non-null     object        \n",
      " 5   longest_duration        57 non-null     object        \n",
      " 6   album_duration          54 non-null     object        \n",
      " 7   release_date            61 non-null     datetime64[ns]\n",
      "dtypes: datetime64[ns](1), int32(2), object(5)\n",
      "memory usage: 20.0 KB\n"
     ]
    }
   ],
   "source": [
    "hip_hop.info(null_counts=True, memory_usage='deep')"
   ]
  },
  {
   "cell_type": "markdown",
   "metadata": {},
   "source": [
    "## Handle Missing Data\n",
    "We can see of the 61 rows, that a few columns are missing data:\n",
    "- artist\n",
    "- shortest_song_duration\n",
    "- longest_duration\n",
    "- album_duration"
   ]
  },
  {
   "cell_type": "code",
   "execution_count": 11,
   "metadata": {
    "ExecuteTime": {
     "end_time": "2020-06-27T15:15:18.666483Z",
     "start_time": "2020-06-27T15:15:18.644678Z"
    }
   },
   "outputs": [],
   "source": [
    "missing_cols = ['shortest_song_duration', 'longest_duration']\n",
    "\n",
    "for col in missing_cols:\n",
    "    hip_hop[col] = hip_hop[col].fillna('0:00')\n",
    "    \n",
    "hip_hop.album_duration = hip_hop.album_duration.fillna('0:0:00')"
   ]
  },
  {
   "cell_type": "markdown",
   "metadata": {},
   "source": [
    "## Convert Song Durations to Seconds"
   ]
  },
  {
   "cell_type": "code",
   "execution_count": 12,
   "metadata": {
    "ExecuteTime": {
     "end_time": "2020-06-27T15:15:18.678592Z",
     "start_time": "2020-06-27T15:15:18.670914Z"
    }
   },
   "outputs": [],
   "source": [
    "def convert_to_seconds(song_duration):\n",
    "    minutes, seconds = song_duration.split(':')\n",
    "    return (int(minutes) * 60) + int(seconds)"
   ]
  },
  {
   "cell_type": "code",
   "execution_count": 13,
   "metadata": {
    "ExecuteTime": {
     "end_time": "2020-06-27T15:15:18.731490Z",
     "start_time": "2020-06-27T15:15:18.688923Z"
    }
   },
   "outputs": [],
   "source": [
    "hip_hop['shortest_seconds'] = hip_hop.shortest_song_duration.apply(convert_to_seconds)\n",
    "hip_hop['longest_seconds'] = hip_hop.longest_duration.apply(convert_to_seconds)"
   ]
  },
  {
   "cell_type": "code",
   "execution_count": 14,
   "metadata": {
    "ExecuteTime": {
     "end_time": "2020-06-27T15:15:18.831333Z",
     "start_time": "2020-06-27T15:15:18.735324Z"
    }
   },
   "outputs": [
    {
     "data": {
      "text/html": [
       "<div>\n",
       "<style scoped>\n",
       "    .dataframe tbody tr th:only-of-type {\n",
       "        vertical-align: middle;\n",
       "    }\n",
       "\n",
       "    .dataframe tbody tr th {\n",
       "        vertical-align: top;\n",
       "    }\n",
       "\n",
       "    .dataframe thead th {\n",
       "        text-align: right;\n",
       "    }\n",
       "</style>\n",
       "<table border=\"1\" class=\"dataframe\">\n",
       "  <thead>\n",
       "    <tr style=\"text-align: right;\">\n",
       "      <th></th>\n",
       "      <th>album_name</th>\n",
       "      <th>artist</th>\n",
       "      <th>listens</th>\n",
       "      <th>number_of_songs</th>\n",
       "      <th>shortest_song_duration</th>\n",
       "      <th>longest_duration</th>\n",
       "      <th>album_duration</th>\n",
       "      <th>release_date</th>\n",
       "      <th>shortest_seconds</th>\n",
       "      <th>longest_seconds</th>\n",
       "    </tr>\n",
       "  </thead>\n",
       "  <tbody>\n",
       "    <tr>\n",
       "      <th>0</th>\n",
       "      <td>The Kanan Tape</td>\n",
       "      <td>50 Cent</td>\n",
       "      <td>2968652</td>\n",
       "      <td>7</td>\n",
       "      <td>2:43</td>\n",
       "      <td>4:45</td>\n",
       "      <td>0:25:04</td>\n",
       "      <td>2015-12-09</td>\n",
       "      <td>163</td>\n",
       "      <td>285</td>\n",
       "    </tr>\n",
       "    <tr>\n",
       "      <th>1</th>\n",
       "      <td>LiveLoveA$Ap</td>\n",
       "      <td>ASAP Rocky</td>\n",
       "      <td>1701695</td>\n",
       "      <td>16</td>\n",
       "      <td>2:38</td>\n",
       "      <td>4:52</td>\n",
       "      <td>0:53:41</td>\n",
       "      <td>2011-10-31</td>\n",
       "      <td>158</td>\n",
       "      <td>292</td>\n",
       "    </tr>\n",
       "    <tr>\n",
       "      <th>2</th>\n",
       "      <td>Detroit</td>\n",
       "      <td>Big Sean</td>\n",
       "      <td>1755528</td>\n",
       "      <td>18</td>\n",
       "      <td>2:19</td>\n",
       "      <td>5:36</td>\n",
       "      <td>1:07:58</td>\n",
       "      <td>2012-09-05</td>\n",
       "      <td>139</td>\n",
       "      <td>336</td>\n",
       "    </tr>\n",
       "    <tr>\n",
       "      <th>3</th>\n",
       "      <td>Acid Rap</td>\n",
       "      <td>Chance The Rapper</td>\n",
       "      <td>2093978</td>\n",
       "      <td>14</td>\n",
       "      <td>2:19</td>\n",
       "      <td>5:33</td>\n",
       "      <td>0:53:52</td>\n",
       "      <td>2013-04-30</td>\n",
       "      <td>139</td>\n",
       "      <td>333</td>\n",
       "    </tr>\n",
       "    <tr>\n",
       "      <th>4</th>\n",
       "      <td>Coloring Book</td>\n",
       "      <td>Chance The Rapper</td>\n",
       "      <td>1950537</td>\n",
       "      <td>14</td>\n",
       "      <td>1:41</td>\n",
       "      <td>6:46</td>\n",
       "      <td>0:57:14</td>\n",
       "      <td>2016-05-13</td>\n",
       "      <td>101</td>\n",
       "      <td>406</td>\n",
       "    </tr>\n",
       "  </tbody>\n",
       "</table>\n",
       "</div>"
      ],
      "text/plain": [
       "       album_name             artist  listens  number_of_songs  \\\n",
       "0  The Kanan Tape            50 Cent  2968652                7   \n",
       "1    LiveLoveA$Ap         ASAP Rocky  1701695               16   \n",
       "2         Detroit           Big Sean  1755528               18   \n",
       "3        Acid Rap  Chance The Rapper  2093978               14   \n",
       "4   Coloring Book  Chance The Rapper  1950537               14   \n",
       "\n",
       "  shortest_song_duration longest_duration album_duration release_date  \\\n",
       "0                   2:43             4:45        0:25:04   2015-12-09   \n",
       "1                   2:38             4:52        0:53:41   2011-10-31   \n",
       "2                   2:19             5:36        1:07:58   2012-09-05   \n",
       "3                   2:19             5:33        0:53:52   2013-04-30   \n",
       "4                   1:41             6:46        0:57:14   2016-05-13   \n",
       "\n",
       "   shortest_seconds  longest_seconds  \n",
       "0               163              285  \n",
       "1               158              292  \n",
       "2               139              336  \n",
       "3               139              333  \n",
       "4               101              406  "
      ]
     },
     "execution_count": 14,
     "metadata": {},
     "output_type": "execute_result"
    }
   ],
   "source": [
    "hip_hop.head()"
   ]
  },
  {
   "cell_type": "markdown",
   "metadata": {},
   "source": [
    "## Convert Timestamps to year, month, is_weekday"
   ]
  },
  {
   "cell_type": "code",
   "execution_count": 15,
   "metadata": {
    "ExecuteTime": {
     "end_time": "2020-06-27T15:15:18.893353Z",
     "start_time": "2020-06-27T15:15:18.836727Z"
    }
   },
   "outputs": [],
   "source": [
    "hip_hop['month'] = hip_hop.release_date.apply(lambda x: x.month)\n",
    "hip_hop['year'] = hip_hop.release_date.apply(lambda x: x.year)\n",
    "hip_hop['weekday_name'] = hip_hop.release_date.apply(lambda x: x.day_name())"
   ]
  },
  {
   "cell_type": "code",
   "execution_count": 16,
   "metadata": {
    "ExecuteTime": {
     "end_time": "2020-06-27T15:15:19.007573Z",
     "start_time": "2020-06-27T15:15:18.898262Z"
    }
   },
   "outputs": [
    {
     "data": {
      "text/html": [
       "<div>\n",
       "<style scoped>\n",
       "    .dataframe tbody tr th:only-of-type {\n",
       "        vertical-align: middle;\n",
       "    }\n",
       "\n",
       "    .dataframe tbody tr th {\n",
       "        vertical-align: top;\n",
       "    }\n",
       "\n",
       "    .dataframe thead th {\n",
       "        text-align: right;\n",
       "    }\n",
       "</style>\n",
       "<table border=\"1\" class=\"dataframe\">\n",
       "  <thead>\n",
       "    <tr style=\"text-align: right;\">\n",
       "      <th></th>\n",
       "      <th>month</th>\n",
       "      <th>year</th>\n",
       "      <th>weekday_name</th>\n",
       "    </tr>\n",
       "  </thead>\n",
       "  <tbody>\n",
       "    <tr>\n",
       "      <th>0</th>\n",
       "      <td>12</td>\n",
       "      <td>2015</td>\n",
       "      <td>Wednesday</td>\n",
       "    </tr>\n",
       "    <tr>\n",
       "      <th>1</th>\n",
       "      <td>10</td>\n",
       "      <td>2011</td>\n",
       "      <td>Monday</td>\n",
       "    </tr>\n",
       "    <tr>\n",
       "      <th>2</th>\n",
       "      <td>9</td>\n",
       "      <td>2012</td>\n",
       "      <td>Wednesday</td>\n",
       "    </tr>\n",
       "    <tr>\n",
       "      <th>3</th>\n",
       "      <td>4</td>\n",
       "      <td>2013</td>\n",
       "      <td>Tuesday</td>\n",
       "    </tr>\n",
       "    <tr>\n",
       "      <th>4</th>\n",
       "      <td>5</td>\n",
       "      <td>2016</td>\n",
       "      <td>Friday</td>\n",
       "    </tr>\n",
       "  </tbody>\n",
       "</table>\n",
       "</div>"
      ],
      "text/plain": [
       "   month  year weekday_name\n",
       "0     12  2015    Wednesday\n",
       "1     10  2011       Monday\n",
       "2      9  2012    Wednesday\n",
       "3      4  2013      Tuesday\n",
       "4      5  2016       Friday"
      ]
     },
     "execution_count": 16,
     "metadata": {},
     "output_type": "execute_result"
    }
   ],
   "source": [
    "hip_hop[['month','year','weekday_name']].head()"
   ]
  },
  {
   "cell_type": "markdown",
   "metadata": {},
   "source": [
    "## Convert Album Duration to Seconds"
   ]
  },
  {
   "cell_type": "code",
   "execution_count": 17,
   "metadata": {
    "ExecuteTime": {
     "end_time": "2020-06-27T15:15:19.032331Z",
     "start_time": "2020-06-27T15:15:19.012615Z"
    }
   },
   "outputs": [],
   "source": [
    "def convert_album_to_seconds(song_duration):\n",
    "    hours, minutes, seconds = song_duration.split(':')\n",
    "    return (int(hours) * 3600) + (int(minutes) * 60) + int(seconds)"
   ]
  },
  {
   "cell_type": "code",
   "execution_count": 18,
   "metadata": {
    "ExecuteTime": {
     "end_time": "2020-06-27T15:15:19.047690Z",
     "start_time": "2020-06-27T15:15:19.038141Z"
    }
   },
   "outputs": [],
   "source": [
    "hip_hop['album_seconds_duration'] = hip_hop.album_duration.apply(convert_album_to_seconds)"
   ]
  },
  {
   "cell_type": "code",
   "execution_count": 20,
   "metadata": {
    "ExecuteTime": {
     "end_time": "2020-06-27T15:24:27.977031Z",
     "start_time": "2020-06-27T15:24:27.891148Z"
    }
   },
   "outputs": [
    {
     "data": {
      "text/html": [
       "<div>\n",
       "<style scoped>\n",
       "    .dataframe tbody tr th:only-of-type {\n",
       "        vertical-align: middle;\n",
       "    }\n",
       "\n",
       "    .dataframe tbody tr th {\n",
       "        vertical-align: top;\n",
       "    }\n",
       "\n",
       "    .dataframe thead th {\n",
       "        text-align: right;\n",
       "    }\n",
       "</style>\n",
       "<table border=\"1\" class=\"dataframe\">\n",
       "  <thead>\n",
       "    <tr style=\"text-align: right;\">\n",
       "      <th></th>\n",
       "      <th>album_name</th>\n",
       "      <th>artist</th>\n",
       "      <th>listens</th>\n",
       "      <th>number_of_songs</th>\n",
       "      <th>shortest_song_duration</th>\n",
       "      <th>longest_duration</th>\n",
       "      <th>album_duration</th>\n",
       "      <th>release_date</th>\n",
       "      <th>shortest_seconds</th>\n",
       "      <th>longest_seconds</th>\n",
       "      <th>month</th>\n",
       "      <th>year</th>\n",
       "      <th>weekday_name</th>\n",
       "      <th>album_seconds_duration</th>\n",
       "    </tr>\n",
       "  </thead>\n",
       "  <tbody>\n",
       "    <tr>\n",
       "      <th>0</th>\n",
       "      <td>The Kanan Tape</td>\n",
       "      <td>50 Cent</td>\n",
       "      <td>2968652</td>\n",
       "      <td>7</td>\n",
       "      <td>2:43</td>\n",
       "      <td>4:45</td>\n",
       "      <td>0:25:04</td>\n",
       "      <td>2015-12-09</td>\n",
       "      <td>163</td>\n",
       "      <td>285</td>\n",
       "      <td>12</td>\n",
       "      <td>2015</td>\n",
       "      <td>Wednesday</td>\n",
       "      <td>1504</td>\n",
       "    </tr>\n",
       "    <tr>\n",
       "      <th>1</th>\n",
       "      <td>LiveLoveA$Ap</td>\n",
       "      <td>ASAP Rocky</td>\n",
       "      <td>1701695</td>\n",
       "      <td>16</td>\n",
       "      <td>2:38</td>\n",
       "      <td>4:52</td>\n",
       "      <td>0:53:41</td>\n",
       "      <td>2011-10-31</td>\n",
       "      <td>158</td>\n",
       "      <td>292</td>\n",
       "      <td>10</td>\n",
       "      <td>2011</td>\n",
       "      <td>Monday</td>\n",
       "      <td>3221</td>\n",
       "    </tr>\n",
       "    <tr>\n",
       "      <th>2</th>\n",
       "      <td>Detroit</td>\n",
       "      <td>Big Sean</td>\n",
       "      <td>1755528</td>\n",
       "      <td>18</td>\n",
       "      <td>2:19</td>\n",
       "      <td>5:36</td>\n",
       "      <td>1:07:58</td>\n",
       "      <td>2012-09-05</td>\n",
       "      <td>139</td>\n",
       "      <td>336</td>\n",
       "      <td>9</td>\n",
       "      <td>2012</td>\n",
       "      <td>Wednesday</td>\n",
       "      <td>4078</td>\n",
       "    </tr>\n",
       "    <tr>\n",
       "      <th>3</th>\n",
       "      <td>Acid Rap</td>\n",
       "      <td>Chance The Rapper</td>\n",
       "      <td>2093978</td>\n",
       "      <td>14</td>\n",
       "      <td>2:19</td>\n",
       "      <td>5:33</td>\n",
       "      <td>0:53:52</td>\n",
       "      <td>2013-04-30</td>\n",
       "      <td>139</td>\n",
       "      <td>333</td>\n",
       "      <td>4</td>\n",
       "      <td>2013</td>\n",
       "      <td>Tuesday</td>\n",
       "      <td>3232</td>\n",
       "    </tr>\n",
       "    <tr>\n",
       "      <th>4</th>\n",
       "      <td>Coloring Book</td>\n",
       "      <td>Chance The Rapper</td>\n",
       "      <td>1950537</td>\n",
       "      <td>14</td>\n",
       "      <td>1:41</td>\n",
       "      <td>6:46</td>\n",
       "      <td>0:57:14</td>\n",
       "      <td>2016-05-13</td>\n",
       "      <td>101</td>\n",
       "      <td>406</td>\n",
       "      <td>5</td>\n",
       "      <td>2016</td>\n",
       "      <td>Friday</td>\n",
       "      <td>3434</td>\n",
       "    </tr>\n",
       "  </tbody>\n",
       "</table>\n",
       "</div>"
      ],
      "text/plain": [
       "       album_name             artist  listens  number_of_songs  \\\n",
       "0  The Kanan Tape            50 Cent  2968652                7   \n",
       "1    LiveLoveA$Ap         ASAP Rocky  1701695               16   \n",
       "2         Detroit           Big Sean  1755528               18   \n",
       "3        Acid Rap  Chance The Rapper  2093978               14   \n",
       "4   Coloring Book  Chance The Rapper  1950537               14   \n",
       "\n",
       "  shortest_song_duration longest_duration album_duration release_date  \\\n",
       "0                   2:43             4:45        0:25:04   2015-12-09   \n",
       "1                   2:38             4:52        0:53:41   2011-10-31   \n",
       "2                   2:19             5:36        1:07:58   2012-09-05   \n",
       "3                   2:19             5:33        0:53:52   2013-04-30   \n",
       "4                   1:41             6:46        0:57:14   2016-05-13   \n",
       "\n",
       "   shortest_seconds  longest_seconds  month  year weekday_name  \\\n",
       "0               163              285     12  2015    Wednesday   \n",
       "1               158              292     10  2011       Monday   \n",
       "2               139              336      9  2012    Wednesday   \n",
       "3               139              333      4  2013      Tuesday   \n",
       "4               101              406      5  2016       Friday   \n",
       "\n",
       "   album_seconds_duration  \n",
       "0                    1504  \n",
       "1                    3221  \n",
       "2                    4078  \n",
       "3                    3232  \n",
       "4                    3434  "
      ]
     },
     "execution_count": 20,
     "metadata": {},
     "output_type": "execute_result"
    }
   ],
   "source": [
    "hip_hop.head()"
   ]
  }
 ],
 "metadata": {
  "kernelspec": {
   "display_name": "Python 3",
   "language": "python",
   "name": "python3"
  },
  "language_info": {
   "codemirror_mode": {
    "name": "ipython",
    "version": 3
   },
   "file_extension": ".py",
   "mimetype": "text/x-python",
   "name": "python",
   "nbconvert_exporter": "python",
   "pygments_lexer": "ipython3",
   "version": "3.8.2"
  },
  "toc": {
   "base_numbering": 1,
   "nav_menu": {},
   "number_sections": true,
   "sideBar": true,
   "skip_h1_title": false,
   "title_cell": "Table of Contents",
   "title_sidebar": "Contents",
   "toc_cell": false,
   "toc_position": {},
   "toc_section_display": true,
   "toc_window_display": true
  },
  "varInspector": {
   "cols": {
    "lenName": 16,
    "lenType": 16,
    "lenVar": 40
   },
   "kernels_config": {
    "python": {
     "delete_cmd_postfix": "",
     "delete_cmd_prefix": "del ",
     "library": "var_list.py",
     "varRefreshCmd": "print(var_dic_list())"
    },
    "r": {
     "delete_cmd_postfix": ") ",
     "delete_cmd_prefix": "rm(",
     "library": "var_list.r",
     "varRefreshCmd": "cat(var_dic_list()) "
    }
   },
   "types_to_exclude": [
    "module",
    "function",
    "builtin_function_or_method",
    "instance",
    "_Feature"
   ],
   "window_display": false
  }
 },
 "nbformat": 4,
 "nbformat_minor": 4
}
