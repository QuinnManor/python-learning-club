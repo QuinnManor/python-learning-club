{
 "cells": [
  {
   "cell_type": "markdown",
   "metadata": {},
   "source": [
    "# Data Visualization\n",
    "Let's use an NFL dataset to take a look at some data visualization tools and graphs."
   ]
  },
  {
   "cell_type": "markdown",
   "metadata": {},
   "source": [
    "# Environment Setup\n",
    "## Loading Dependencies"
   ]
  },
  {
   "cell_type": "code",
   "execution_count": 1,
   "metadata": {},
   "outputs": [
    {
     "name": "stderr",
     "output_type": "stream",
     "text": [
      "/Users/matthewquinn/Library/Caches/pypoetry/virtualenvs/visualizations-umNhk9Xq-py3.8/lib/python3.8/site-packages/pandas/compat/__init__.py:117: UserWarning: Could not import the lzma module. Your installed Python is incomplete. Attempting to use lzma compression will result in a RuntimeError.\n",
      "  warnings.warn(msg)\n"
     ]
    }
   ],
   "source": [
    "import pandas as pd\n",
    "import os\n",
    "import git\n",
    "\n",
    "from pathlib import Path\n",
    "import matplotlib.pyplot as plt\n",
    "import seaborn as sns\n",
    "import folium"
   ]
  },
  {
   "cell_type": "markdown",
   "metadata": {},
   "source": [
    "## Importing our NFL Dataset"
   ]
  },
  {
   "cell_type": "code",
   "execution_count": 2,
   "metadata": {},
   "outputs": [],
   "source": [
    "# Read in the data\n",
    "repo_root = Path(git.Repo(os.getcwd(), search_parent_directories=True).git.rev_parse(\"--show-toplevel\"))\n",
    "\n",
    "rosters_file = 'NFL 2018 Active Team Rosters.xlsx'\n",
    "salaries_file = 'NFL 2017 Player Salaries.xlsx'\n",
    "stadium_file = 'stadiums_nfl.csv'\n",
    "\n",
    "rosters_path = f'{repo_root}/activities/visualizations/nfl-data/{rosters_file}'\n",
    "salaries_path = f'{repo_root}/activities/visualizations/nfl-data/{salaries_file}'\n",
    "stadium_path = f'{repo_root}/activities/visualizations/nfl-data/{stadium_file}'\n",
    "\n",
    "rosters = pd.read_excel(rosters_path, index_col=None).drop(columns='ID')\n",
    "salaries = pd.read_excel(salaries_path, index_col=0).reset_index()\n",
    "stadiums = pd.read_csv(stadium_path, sep=';', usecols=['NAME', 'LATITUDE', 'LONGITUDE', 'TEAM'])"
   ]
  },
  {
   "cell_type": "code",
   "execution_count": 3,
   "metadata": {},
   "outputs": [
    {
     "data": {
      "text/html": [
       "<div>\n",
       "<style scoped>\n",
       "    .dataframe tbody tr th:only-of-type {\n",
       "        vertical-align: middle;\n",
       "    }\n",
       "\n",
       "    .dataframe tbody tr th {\n",
       "        vertical-align: top;\n",
       "    }\n",
       "\n",
       "    .dataframe thead th {\n",
       "        text-align: right;\n",
       "    }\n",
       "</style>\n",
       "<table border=\"1\" class=\"dataframe\">\n",
       "  <thead>\n",
       "    <tr style=\"text-align: right;\">\n",
       "      <th></th>\n",
       "      <th>Player</th>\n",
       "      <th>#</th>\n",
       "      <th>Pos</th>\n",
       "      <th>HT</th>\n",
       "      <th>WT</th>\n",
       "      <th>Age</th>\n",
       "      <th>Exp</th>\n",
       "      <th>College</th>\n",
       "      <th>Team</th>\n",
       "    </tr>\n",
       "  </thead>\n",
       "  <tbody>\n",
       "    <tr>\n",
       "      <th>0</th>\n",
       "      <td>Matt McCrane</td>\n",
       "      <td>1</td>\n",
       "      <td>K</td>\n",
       "      <td>2018-05-10 00:00:00</td>\n",
       "      <td>165.0</td>\n",
       "      <td>23.0</td>\n",
       "      <td>R</td>\n",
       "      <td>Kansas State</td>\n",
       "      <td>Arizona Cardinals</td>\n",
       "    </tr>\n",
       "    <tr>\n",
       "      <th>1</th>\n",
       "      <td>Andy Lee</td>\n",
       "      <td>2</td>\n",
       "      <td>P</td>\n",
       "      <td>2018-06-01 00:00:00</td>\n",
       "      <td>185.0</td>\n",
       "      <td>35.0</td>\n",
       "      <td>15</td>\n",
       "      <td>Pittsburgh</td>\n",
       "      <td>Arizona Cardinals</td>\n",
       "    </tr>\n",
       "    <tr>\n",
       "      <th>2</th>\n",
       "      <td>Josh Rosen</td>\n",
       "      <td>3</td>\n",
       "      <td>QB</td>\n",
       "      <td>2018-06-04 00:00:00</td>\n",
       "      <td>218.0</td>\n",
       "      <td>21.0</td>\n",
       "      <td>R</td>\n",
       "      <td>UCLA</td>\n",
       "      <td>Arizona Cardinals</td>\n",
       "    </tr>\n",
       "    <tr>\n",
       "      <th>3</th>\n",
       "      <td>Phil Dawson</td>\n",
       "      <td>4</td>\n",
       "      <td>K</td>\n",
       "      <td>2018-05-11 00:00:00</td>\n",
       "      <td>200.0</td>\n",
       "      <td>43.0</td>\n",
       "      <td>20</td>\n",
       "      <td>Texas</td>\n",
       "      <td>Arizona Cardinals</td>\n",
       "    </tr>\n",
       "    <tr>\n",
       "      <th>4</th>\n",
       "      <td>Charles Kanoff</td>\n",
       "      <td>6</td>\n",
       "      <td>QB</td>\n",
       "      <td>2018-06-04 00:00:00</td>\n",
       "      <td>219.0</td>\n",
       "      <td>23.0</td>\n",
       "      <td>R</td>\n",
       "      <td>Princeton</td>\n",
       "      <td>Arizona Cardinals</td>\n",
       "    </tr>\n",
       "  </tbody>\n",
       "</table>\n",
       "</div>"
      ],
      "text/plain": [
       "           Player  # Pos                   HT     WT   Age Exp       College  \\\n",
       "0    Matt McCrane  1   K  2018-05-10 00:00:00  165.0  23.0   R  Kansas State   \n",
       "1        Andy Lee  2   P  2018-06-01 00:00:00  185.0  35.0  15    Pittsburgh   \n",
       "2      Josh Rosen  3  QB  2018-06-04 00:00:00  218.0  21.0   R          UCLA   \n",
       "3     Phil Dawson  4   K  2018-05-11 00:00:00  200.0  43.0  20         Texas   \n",
       "4  Charles Kanoff  6  QB  2018-06-04 00:00:00  219.0  23.0   R     Princeton   \n",
       "\n",
       "                Team  \n",
       "0  Arizona Cardinals  \n",
       "1  Arizona Cardinals  \n",
       "2  Arizona Cardinals  \n",
       "3  Arizona Cardinals  \n",
       "4  Arizona Cardinals  "
      ]
     },
     "metadata": {},
     "output_type": "display_data"
    },
    {
     "data": {
      "text/html": [
       "<div>\n",
       "<style scoped>\n",
       "    .dataframe tbody tr th:only-of-type {\n",
       "        vertical-align: middle;\n",
       "    }\n",
       "\n",
       "    .dataframe tbody tr th {\n",
       "        vertical-align: top;\n",
       "    }\n",
       "\n",
       "    .dataframe thead th {\n",
       "        text-align: right;\n",
       "    }\n",
       "</style>\n",
       "<table border=\"1\" class=\"dataframe\">\n",
       "  <thead>\n",
       "    <tr style=\"text-align: right;\">\n",
       "      <th></th>\n",
       "      <th>Rk</th>\n",
       "      <th>Player</th>\n",
       "      <th>Pos</th>\n",
       "      <th>Tm</th>\n",
       "      <th>Cap Hit</th>\n",
       "    </tr>\n",
       "  </thead>\n",
       "  <tbody>\n",
       "    <tr>\n",
       "      <th>0</th>\n",
       "      <td>1.0</td>\n",
       "      <td>Kirk Cousins</td>\n",
       "      <td>QB</td>\n",
       "      <td>WAS</td>\n",
       "      <td>23943600</td>\n",
       "    </tr>\n",
       "    <tr>\n",
       "      <th>1</th>\n",
       "      <td>2.0</td>\n",
       "      <td>Trumaine Johnson</td>\n",
       "      <td>CB</td>\n",
       "      <td>LAR</td>\n",
       "      <td>16742400</td>\n",
       "    </tr>\n",
       "    <tr>\n",
       "      <th>2</th>\n",
       "      <td>3.0</td>\n",
       "      <td>Josh Norman</td>\n",
       "      <td>CB</td>\n",
       "      <td>WAS</td>\n",
       "      <td>16500000</td>\n",
       "    </tr>\n",
       "    <tr>\n",
       "      <th>3</th>\n",
       "      <td>NaN</td>\n",
       "      <td>Von Miller</td>\n",
       "      <td>LB</td>\n",
       "      <td>DEN</td>\n",
       "      <td>16500000</td>\n",
       "    </tr>\n",
       "    <tr>\n",
       "      <th>4</th>\n",
       "      <td>5.0</td>\n",
       "      <td>Justin Houston</td>\n",
       "      <td>LB</td>\n",
       "      <td>KAN</td>\n",
       "      <td>16350000</td>\n",
       "    </tr>\n",
       "  </tbody>\n",
       "</table>\n",
       "</div>"
      ],
      "text/plain": [
       "    Rk            Player Pos   Tm   Cap Hit\n",
       "0  1.0      Kirk Cousins  QB  WAS  23943600\n",
       "1  2.0  Trumaine Johnson  CB  LAR  16742400\n",
       "2  3.0       Josh Norman  CB  WAS  16500000\n",
       "3  NaN        Von Miller  LB  DEN  16500000\n",
       "4  5.0    Justin Houston  LB  KAN  16350000"
      ]
     },
     "metadata": {},
     "output_type": "display_data"
    },
    {
     "data": {
      "text/html": [
       "<div>\n",
       "<style scoped>\n",
       "    .dataframe tbody tr th:only-of-type {\n",
       "        vertical-align: middle;\n",
       "    }\n",
       "\n",
       "    .dataframe tbody tr th {\n",
       "        vertical-align: top;\n",
       "    }\n",
       "\n",
       "    .dataframe thead th {\n",
       "        text-align: right;\n",
       "    }\n",
       "</style>\n",
       "<table border=\"1\" class=\"dataframe\">\n",
       "  <thead>\n",
       "    <tr style=\"text-align: right;\">\n",
       "      <th></th>\n",
       "      <th>NAME</th>\n",
       "      <th>LATITUDE</th>\n",
       "      <th>LONGITUDE</th>\n",
       "      <th>TEAM</th>\n",
       "    </tr>\n",
       "  </thead>\n",
       "  <tbody>\n",
       "    <tr>\n",
       "      <th>0</th>\n",
       "      <td>Lincoln Financial Field</td>\n",
       "      <td>39.90147</td>\n",
       "      <td>-75.16729</td>\n",
       "      <td>Philadelphia Eagles</td>\n",
       "    </tr>\n",
       "    <tr>\n",
       "      <th>1</th>\n",
       "      <td>Qualcomm Stadium</td>\n",
       "      <td>32.78322</td>\n",
       "      <td>-117.11976</td>\n",
       "      <td>San Diego Chargers</td>\n",
       "    </tr>\n",
       "    <tr>\n",
       "      <th>2</th>\n",
       "      <td>Bank of America Stadium</td>\n",
       "      <td>35.22584</td>\n",
       "      <td>-80.85331</td>\n",
       "      <td>Carolina Panthers</td>\n",
       "    </tr>\n",
       "    <tr>\n",
       "      <th>3</th>\n",
       "      <td>Jacksonville Municipal Stadium</td>\n",
       "      <td>30.32387</td>\n",
       "      <td>-81.63690</td>\n",
       "      <td>Jacksonville Jaguars</td>\n",
       "    </tr>\n",
       "    <tr>\n",
       "      <th>4</th>\n",
       "      <td>Soldier Field</td>\n",
       "      <td>41.86250</td>\n",
       "      <td>-87.61677</td>\n",
       "      <td>Chicago Bers</td>\n",
       "    </tr>\n",
       "  </tbody>\n",
       "</table>\n",
       "</div>"
      ],
      "text/plain": [
       "                             NAME  LATITUDE  LONGITUDE                  TEAM\n",
       "0         Lincoln Financial Field  39.90147  -75.16729   Philadelphia Eagles\n",
       "1                Qualcomm Stadium  32.78322 -117.11976    San Diego Chargers\n",
       "2         Bank of America Stadium  35.22584  -80.85331     Carolina Panthers\n",
       "3  Jacksonville Municipal Stadium  30.32387  -81.63690  Jacksonville Jaguars\n",
       "4                   Soldier Field  41.86250  -87.61677          Chicago Bers"
      ]
     },
     "metadata": {},
     "output_type": "display_data"
    }
   ],
   "source": [
    "# Quick Data Exploration\n",
    "display(rosters.head())\n",
    "display(salaries.head())\n",
    "display(stadiums.head())"
   ]
  },
  {
   "cell_type": "markdown",
   "metadata": {},
   "source": [
    "# Plotting our Data\n",
    "Now that we have our data imported, let's give it a go and figure out how to plot our datasets."
   ]
  },
  {
   "cell_type": "markdown",
   "metadata": {},
   "source": [
    "## Rosters"
   ]
  },
  {
   "cell_type": "code",
   "execution_count": 4,
   "metadata": {},
   "outputs": [
    {
     "data": {
      "text/html": [
       "<div>\n",
       "<style scoped>\n",
       "    .dataframe tbody tr th:only-of-type {\n",
       "        vertical-align: middle;\n",
       "    }\n",
       "\n",
       "    .dataframe tbody tr th {\n",
       "        vertical-align: top;\n",
       "    }\n",
       "\n",
       "    .dataframe thead th {\n",
       "        text-align: right;\n",
       "    }\n",
       "</style>\n",
       "<table border=\"1\" class=\"dataframe\">\n",
       "  <thead>\n",
       "    <tr style=\"text-align: right;\">\n",
       "      <th></th>\n",
       "      <th>Player</th>\n",
       "      <th>#</th>\n",
       "      <th>Pos</th>\n",
       "      <th>HT</th>\n",
       "      <th>WT</th>\n",
       "      <th>Age</th>\n",
       "      <th>Exp</th>\n",
       "      <th>College</th>\n",
       "      <th>Team</th>\n",
       "    </tr>\n",
       "  </thead>\n",
       "  <tbody>\n",
       "    <tr>\n",
       "      <th>0</th>\n",
       "      <td>Matt McCrane</td>\n",
       "      <td>1</td>\n",
       "      <td>K</td>\n",
       "      <td>2018-05-10 00:00:00</td>\n",
       "      <td>165.0</td>\n",
       "      <td>23.0</td>\n",
       "      <td>R</td>\n",
       "      <td>Kansas State</td>\n",
       "      <td>Arizona Cardinals</td>\n",
       "    </tr>\n",
       "    <tr>\n",
       "      <th>1</th>\n",
       "      <td>Andy Lee</td>\n",
       "      <td>2</td>\n",
       "      <td>P</td>\n",
       "      <td>2018-06-01 00:00:00</td>\n",
       "      <td>185.0</td>\n",
       "      <td>35.0</td>\n",
       "      <td>15</td>\n",
       "      <td>Pittsburgh</td>\n",
       "      <td>Arizona Cardinals</td>\n",
       "    </tr>\n",
       "    <tr>\n",
       "      <th>2</th>\n",
       "      <td>Josh Rosen</td>\n",
       "      <td>3</td>\n",
       "      <td>QB</td>\n",
       "      <td>2018-06-04 00:00:00</td>\n",
       "      <td>218.0</td>\n",
       "      <td>21.0</td>\n",
       "      <td>R</td>\n",
       "      <td>UCLA</td>\n",
       "      <td>Arizona Cardinals</td>\n",
       "    </tr>\n",
       "    <tr>\n",
       "      <th>3</th>\n",
       "      <td>Phil Dawson</td>\n",
       "      <td>4</td>\n",
       "      <td>K</td>\n",
       "      <td>2018-05-11 00:00:00</td>\n",
       "      <td>200.0</td>\n",
       "      <td>43.0</td>\n",
       "      <td>20</td>\n",
       "      <td>Texas</td>\n",
       "      <td>Arizona Cardinals</td>\n",
       "    </tr>\n",
       "    <tr>\n",
       "      <th>4</th>\n",
       "      <td>Charles Kanoff</td>\n",
       "      <td>6</td>\n",
       "      <td>QB</td>\n",
       "      <td>2018-06-04 00:00:00</td>\n",
       "      <td>219.0</td>\n",
       "      <td>23.0</td>\n",
       "      <td>R</td>\n",
       "      <td>Princeton</td>\n",
       "      <td>Arizona Cardinals</td>\n",
       "    </tr>\n",
       "  </tbody>\n",
       "</table>\n",
       "</div>"
      ],
      "text/plain": [
       "           Player  # Pos                   HT     WT   Age Exp       College  \\\n",
       "0    Matt McCrane  1   K  2018-05-10 00:00:00  165.0  23.0   R  Kansas State   \n",
       "1        Andy Lee  2   P  2018-06-01 00:00:00  185.0  35.0  15    Pittsburgh   \n",
       "2      Josh Rosen  3  QB  2018-06-04 00:00:00  218.0  21.0   R          UCLA   \n",
       "3     Phil Dawson  4   K  2018-05-11 00:00:00  200.0  43.0  20         Texas   \n",
       "4  Charles Kanoff  6  QB  2018-06-04 00:00:00  219.0  23.0   R     Princeton   \n",
       "\n",
       "                Team  \n",
       "0  Arizona Cardinals  \n",
       "1  Arizona Cardinals  \n",
       "2  Arizona Cardinals  \n",
       "3  Arizona Cardinals  \n",
       "4  Arizona Cardinals  "
      ]
     },
     "execution_count": 4,
     "metadata": {},
     "output_type": "execute_result"
    }
   ],
   "source": [
    "rosters.head()"
   ]
  },
  {
   "cell_type": "markdown",
   "metadata": {},
   "source": [
    "### Position Distribution"
   ]
  },
  {
   "cell_type": "code",
   "execution_count": 5,
   "metadata": {},
   "outputs": [
    {
     "data": {
      "text/plain": [
       "<matplotlib.legend.Legend at 0x1179637f0>"
      ]
     },
     "execution_count": 5,
     "metadata": {},
     "output_type": "execute_result"
    },
    {
     "data": {
      "image/png": "[encoded data removed]",
      "text/plain": [
       "<Figure size 432x288 with 1 Axes>"
      ]
     },
     "metadata": {
      "needs_background": "light"
     },
     "output_type": "display_data"
    }
   ],
   "source": [
    "rosters['Pos'].sample(15, random_state=42).value_counts().plot.barh(title='Position Distribution')\n",
    "\n",
    "plt.xlabel('Count')\n",
    "plt.ylabel('Position')\n",
    "plt.legend()"
   ]
  },
  {
   "cell_type": "markdown",
   "metadata": {},
   "source": [
    "### Team Distribution"
   ]
  },
  {
   "cell_type": "code",
   "execution_count": 6,
   "metadata": {},
   "outputs": [
    {
     "data": {
      "text/plain": [
       "<matplotlib.legend.Legend at 0x11788f7f0>"
      ]
     },
     "execution_count": 6,
     "metadata": {},
     "output_type": "execute_result"
    },
    {
     "data": {
      "image/png": "[encoded data removed]",
      "text/plain": [
       "<Figure size 432x288 with 1 Axes>"
      ]
     },
     "metadata": {
      "needs_background": "light"
     },
     "output_type": "display_data"
    }
   ],
   "source": [
    "rosters['Team'].sample(15, random_state=42).value_counts().plot.barh(title='Players by Team')\n",
    "\n",
    "plt.xlabel('Number of Players')\n",
    "plt.ylabel('Team')\n",
    "plt.legend()"
   ]
  },
  {
   "cell_type": "markdown",
   "metadata": {},
   "source": [
    "### Position x Team Comparison"
   ]
  },
  {
   "cell_type": "code",
   "execution_count": 7,
   "metadata": {},
   "outputs": [],
   "source": [
    "wash = rosters.tail(15)\n",
    "ariz = rosters.head(15)\n",
    "\n",
    "rosters_mod = pd.concat([wash, ariz])"
   ]
  },
  {
   "cell_type": "code",
   "execution_count": 8,
   "metadata": {
    "scrolled": false
   },
   "outputs": [
    {
     "data": {
      "text/plain": [
       "<AxesSubplot:xlabel='Team', ylabel='count'>"
      ]
     },
     "execution_count": 8,
     "metadata": {},
     "output_type": "execute_result"
    },
    {
     "data": {
      "image/png": "[encoded data removed]",
      "text/plain": [
       "<Figure size 432x288 with 1 Axes>"
      ]
     },
     "metadata": {
      "needs_background": "light"
     },
     "output_type": "display_data"
    }
   ],
   "source": [
    "sns.countplot(\n",
    "    x='Team',\n",
    "    hue='Pos',\n",
    "    data=rosters_mod\n",
    ")"
   ]
  },
  {
   "cell_type": "markdown",
   "metadata": {},
   "source": [
    "## Salaries"
   ]
  },
  {
   "cell_type": "code",
   "execution_count": 9,
   "metadata": {},
   "outputs": [
    {
     "data": {
      "text/html": [
       "<div>\n",
       "<style scoped>\n",
       "    .dataframe tbody tr th:only-of-type {\n",
       "        vertical-align: middle;\n",
       "    }\n",
       "\n",
       "    .dataframe tbody tr th {\n",
       "        vertical-align: top;\n",
       "    }\n",
       "\n",
       "    .dataframe thead th {\n",
       "        text-align: right;\n",
       "    }\n",
       "</style>\n",
       "<table border=\"1\" class=\"dataframe\">\n",
       "  <thead>\n",
       "    <tr style=\"text-align: right;\">\n",
       "      <th></th>\n",
       "      <th>Rk</th>\n",
       "      <th>Player</th>\n",
       "      <th>Pos</th>\n",
       "      <th>Tm</th>\n",
       "      <th>Cap Hit</th>\n",
       "    </tr>\n",
       "  </thead>\n",
       "  <tbody>\n",
       "    <tr>\n",
       "      <th>0</th>\n",
       "      <td>1.0</td>\n",
       "      <td>Kirk Cousins</td>\n",
       "      <td>QB</td>\n",
       "      <td>WAS</td>\n",
       "      <td>23943600</td>\n",
       "    </tr>\n",
       "    <tr>\n",
       "      <th>1</th>\n",
       "      <td>2.0</td>\n",
       "      <td>Trumaine Johnson</td>\n",
       "      <td>CB</td>\n",
       "      <td>LAR</td>\n",
       "      <td>16742400</td>\n",
       "    </tr>\n",
       "    <tr>\n",
       "      <th>2</th>\n",
       "      <td>3.0</td>\n",
       "      <td>Josh Norman</td>\n",
       "      <td>CB</td>\n",
       "      <td>WAS</td>\n",
       "      <td>16500000</td>\n",
       "    </tr>\n",
       "    <tr>\n",
       "      <th>3</th>\n",
       "      <td>NaN</td>\n",
       "      <td>Von Miller</td>\n",
       "      <td>LB</td>\n",
       "      <td>DEN</td>\n",
       "      <td>16500000</td>\n",
       "    </tr>\n",
       "    <tr>\n",
       "      <th>4</th>\n",
       "      <td>5.0</td>\n",
       "      <td>Justin Houston</td>\n",
       "      <td>LB</td>\n",
       "      <td>KAN</td>\n",
       "      <td>16350000</td>\n",
       "    </tr>\n",
       "  </tbody>\n",
       "</table>\n",
       "</div>"
      ],
      "text/plain": [
       "    Rk            Player Pos   Tm   Cap Hit\n",
       "0  1.0      Kirk Cousins  QB  WAS  23943600\n",
       "1  2.0  Trumaine Johnson  CB  LAR  16742400\n",
       "2  3.0       Josh Norman  CB  WAS  16500000\n",
       "3  NaN        Von Miller  LB  DEN  16500000\n",
       "4  5.0    Justin Houston  LB  KAN  16350000"
      ]
     },
     "execution_count": 9,
     "metadata": {},
     "output_type": "execute_result"
    }
   ],
   "source": [
    "salaries_mod = salaries.head(25)\n",
    "salaries_mod.head()"
   ]
  },
  {
   "cell_type": "code",
   "execution_count": 10,
   "metadata": {},
   "outputs": [
    {
     "data": {
      "text/plain": [
       "Text(0, 0.5, 'Number of Players')"
      ]
     },
     "execution_count": 10,
     "metadata": {},
     "output_type": "execute_result"
    },
    {
     "data": {
      "image/png": "[encoded data removed]",
      "text/plain": [
       "<Figure size 432x288 with 1 Axes>"
      ]
     },
     "metadata": {
      "needs_background": "light"
     },
     "output_type": "display_data"
    }
   ],
   "source": [
    "salaries_mod['Cap Hit'].hist(bins=10)\n",
    "plt.axvline(salaries_mod['Cap Hit'].mean())\n",
    "plt.title('Distribution of NFL Player Salaries')\n",
    "plt.xlabel('Player Salaries')\n",
    "plt.ylabel('Number of Players')"
   ]
  },
  {
   "cell_type": "markdown",
   "metadata": {},
   "source": [
    "## Stadiums"
   ]
  },
  {
   "cell_type": "code",
   "execution_count": 11,
   "metadata": {},
   "outputs": [
    {
     "data": {
      "text/html": [
       "<div>\n",
       "<style scoped>\n",
       "    .dataframe tbody tr th:only-of-type {\n",
       "        vertical-align: middle;\n",
       "    }\n",
       "\n",
       "    .dataframe tbody tr th {\n",
       "        vertical-align: top;\n",
       "    }\n",
       "\n",
       "    .dataframe thead th {\n",
       "        text-align: right;\n",
       "    }\n",
       "</style>\n",
       "<table border=\"1\" class=\"dataframe\">\n",
       "  <thead>\n",
       "    <tr style=\"text-align: right;\">\n",
       "      <th></th>\n",
       "      <th>NAME</th>\n",
       "      <th>LATITUDE</th>\n",
       "      <th>LONGITUDE</th>\n",
       "      <th>TEAM</th>\n",
       "    </tr>\n",
       "  </thead>\n",
       "  <tbody>\n",
       "    <tr>\n",
       "      <th>0</th>\n",
       "      <td>Lincoln Financial Field</td>\n",
       "      <td>39.90147</td>\n",
       "      <td>-75.16729</td>\n",
       "      <td>Philadelphia Eagles</td>\n",
       "    </tr>\n",
       "    <tr>\n",
       "      <th>1</th>\n",
       "      <td>Qualcomm Stadium</td>\n",
       "      <td>32.78322</td>\n",
       "      <td>-117.11976</td>\n",
       "      <td>San Diego Chargers</td>\n",
       "    </tr>\n",
       "    <tr>\n",
       "      <th>2</th>\n",
       "      <td>Bank of America Stadium</td>\n",
       "      <td>35.22584</td>\n",
       "      <td>-80.85331</td>\n",
       "      <td>Carolina Panthers</td>\n",
       "    </tr>\n",
       "    <tr>\n",
       "      <th>3</th>\n",
       "      <td>Jacksonville Municipal Stadium</td>\n",
       "      <td>30.32387</td>\n",
       "      <td>-81.63690</td>\n",
       "      <td>Jacksonville Jaguars</td>\n",
       "    </tr>\n",
       "    <tr>\n",
       "      <th>4</th>\n",
       "      <td>Soldier Field</td>\n",
       "      <td>41.86250</td>\n",
       "      <td>-87.61677</td>\n",
       "      <td>Chicago Bers</td>\n",
       "    </tr>\n",
       "  </tbody>\n",
       "</table>\n",
       "</div>"
      ],
      "text/plain": [
       "                             NAME  LATITUDE  LONGITUDE                  TEAM\n",
       "0         Lincoln Financial Field  39.90147  -75.16729   Philadelphia Eagles\n",
       "1                Qualcomm Stadium  32.78322 -117.11976    San Diego Chargers\n",
       "2         Bank of America Stadium  35.22584  -80.85331     Carolina Panthers\n",
       "3  Jacksonville Municipal Stadium  30.32387  -81.63690  Jacksonville Jaguars\n",
       "4                   Soldier Field  41.86250  -87.61677          Chicago Bers"
      ]
     },
     "execution_count": 11,
     "metadata": {},
     "output_type": "execute_result"
    }
   ],
   "source": [
    "stadiums.head()"
   ]
  },
  {
   "cell_type": "code",
   "execution_count": 12,
   "metadata": {},
   "outputs": [],
   "source": [
    "zipped_stadiums = zip(stadiums.LATITUDE, stadiums.LONGITUDE, stadiums.TEAM)"
   ]
  },
  {
   "cell_type": "code",
   "execution_count": 13,
   "metadata": {},
   "outputs": [
    {
     "data": {
      "text/html": [
       "<div style=\"width:100%;\"><div style=\"position:relative;width:100%;height:0;padding-bottom:60%;\"><span style=\"color:#565656\">Make this Notebook Trusted to load map: File -> Trust Notebook</span><iframe src=\"about:blank\" style=\"position:absolute;width:100%;height:100%;left:0;top:0;border:none !important;\" data-html=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 onload=\"this.contentDocument.open();this.contentDocument.write(atob(this.getAttribute('data-html')));this.contentDocument.close();\" allowfullscreen webkitallowfullscreen mozallowfullscreen></iframe></div></div>"
      ],
      "text/plain": [
       "<folium.folium.Map at 0x117c47b80>"
      ]
     },
     "execution_count": 13,
     "metadata": {},
     "output_type": "execute_result"
    }
   ],
   "source": [
    "usa_center = (37.1369916,-103.8264166)\n",
    "\n",
    "usa_map = folium.Map(\n",
    "    location=usa_center,\n",
    "    zoom_start=4,\n",
    "    tiles='Stamen Terrain'\n",
    ")\n",
    "\n",
    "for lat, long, team in zipped_stadiums:\n",
    "    folium.CircleMarker(\n",
    "        location=(lat, long),\n",
    "        popup=team,\n",
    "        fill=True\n",
    "    ).add_to(usa_map)\n",
    "\n",
    "usa_map"
   ]
  }
 ],
 "metadata": {
  "kernelspec": {
   "display_name": "Python 3",
   "language": "python",
   "name": "python3"
  },
  "language_info": {
   "codemirror_mode": {
    "name": "ipython",
    "version": 3
   },
   "file_extension": ".py",
   "mimetype": "text/x-python",
   "name": "python",
   "nbconvert_exporter": "python",
   "pygments_lexer": "ipython3",
   "version": "3.8.3"
  },
  "toc": {
   "base_numbering": 1,
   "nav_menu": {},
   "number_sections": true,
   "sideBar": true,
   "skip_h1_title": false,
   "title_cell": "Table of Contents",
   "title_sidebar": "Contents",
   "toc_cell": false,
   "toc_position": {},
   "toc_section_display": true,
   "toc_window_display": true
  }
 },
 "nbformat": 4,
 "nbformat_minor": 4
}
