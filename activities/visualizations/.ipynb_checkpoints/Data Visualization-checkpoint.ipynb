{
 "cells": [
  {
   "cell_type": "markdown",
   "metadata": {},
   "source": [
    "# Data Visualization\n",
    "Let's use an NFL dataset to take a look at some data visualization tools and graphs."
   ]
  },
  {
   "cell_type": "markdown",
   "metadata": {},
   "source": [
    "# Environment Setup\n",
    "## Loading Dependencies"
   ]
  },
  {
   "cell_type": "code",
   "execution_count": 1,
   "metadata": {},
   "outputs": [
    {
     "name": "stderr",
     "output_type": "stream",
     "text": [
      "/Users/matthewquinn/Library/Caches/pypoetry/virtualenvs/visualizations-umNhk9Xq-py3.8/lib/python3.8/site-packages/pandas/compat/__init__.py:117: UserWarning: Could not import the lzma module. Your installed Python is incomplete. Attempting to use lzma compression will result in a RuntimeError.\n",
      "  warnings.warn(msg)\n"
     ]
    }
   ],
   "source": [
    "import pandas as pd\n",
    "import os\n",
    "import git\n",
    "\n",
    "from pathlib import Path\n",
    "import matplotlib.pyplot as plt\n",
    "import seaborn as sns\n",
    "import folium"
   ]
  },
  {
   "cell_type": "markdown",
   "metadata": {},
   "source": [
    "## Importing our NFL Dataset"
   ]
  },
  {
   "cell_type": "code",
   "execution_count": 2,
   "metadata": {},
   "outputs": [],
   "source": [
    "# Read in the data\n",
    "repo_root = Path(git.Repo(os.getcwd(), search_parent_directories=True).git.rev_parse(\"--show-toplevel\"))\n",
    "\n",
    "rosters_file = 'NFL 2018 Active Team Rosters.xlsx'\n",
    "salaries_file = 'NFL 2017 Player Salaries.xlsx'\n",
    "stadium_file = 'stadiums_nfl.csv'\n",
    "\n",
    "rosters_path = f'{repo_root}/activities/visualizations/nfl-data/{rosters_file}'\n",
    "salaries_path = f'{repo_root}/activities/visualizations/nfl-data/{salaries_file}'\n",
    "stadium_path = f'{repo_root}/activities/visualizations/nfl-data/{stadium_file}'\n",
    "\n",
    "rosters = pd.read_excel(rosters_path, index_col=None).drop(columns='ID')\n",
    "salaries = pd.read_excel(salaries_path, index_col=0).reset_index()\n",
    "stadiums = pd.read_csv(stadium_path, sep=';', usecols=['NAME', 'LATITUDE', 'LONGITUDE', 'TEAM'])"
   ]
  },
  {
   "cell_type": "code",
   "execution_count": 3,
   "metadata": {},
   "outputs": [
    {
     "data": {
      "text/html": [
       "<div>\n",
       "<style scoped>\n",
       "    .dataframe tbody tr th:only-of-type {\n",
       "        vertical-align: middle;\n",
       "    }\n",
       "\n",
       "    .dataframe tbody tr th {\n",
       "        vertical-align: top;\n",
       "    }\n",
       "\n",
       "    .dataframe thead th {\n",
       "        text-align: right;\n",
       "    }\n",
       "</style>\n",
       "<table border=\"1\" class=\"dataframe\">\n",
       "  <thead>\n",
       "    <tr style=\"text-align: right;\">\n",
       "      <th></th>\n",
       "      <th>Player</th>\n",
       "      <th>#</th>\n",
       "      <th>Pos</th>\n",
       "      <th>HT</th>\n",
       "      <th>WT</th>\n",
       "      <th>Age</th>\n",
       "      <th>Exp</th>\n",
       "      <th>College</th>\n",
       "      <th>Team</th>\n",
       "    </tr>\n",
       "  </thead>\n",
       "  <tbody>\n",
       "    <tr>\n",
       "      <th>0</th>\n",
       "      <td>Matt McCrane</td>\n",
       "      <td>1</td>\n",
       "      <td>K</td>\n",
       "      <td>2018-05-10 00:00:00</td>\n",
       "      <td>165.0</td>\n",
       "      <td>23.0</td>\n",
       "      <td>R</td>\n",
       "      <td>Kansas State</td>\n",
       "      <td>Arizona Cardinals</td>\n",
       "    </tr>\n",
       "    <tr>\n",
       "      <th>1</th>\n",
       "      <td>Andy Lee</td>\n",
       "      <td>2</td>\n",
       "      <td>P</td>\n",
       "      <td>2018-06-01 00:00:00</td>\n",
       "      <td>185.0</td>\n",
       "      <td>35.0</td>\n",
       "      <td>15</td>\n",
       "      <td>Pittsburgh</td>\n",
       "      <td>Arizona Cardinals</td>\n",
       "    </tr>\n",
       "    <tr>\n",
       "      <th>2</th>\n",
       "      <td>Josh Rosen</td>\n",
       "      <td>3</td>\n",
       "      <td>QB</td>\n",
       "      <td>2018-06-04 00:00:00</td>\n",
       "      <td>218.0</td>\n",
       "      <td>21.0</td>\n",
       "      <td>R</td>\n",
       "      <td>UCLA</td>\n",
       "      <td>Arizona Cardinals</td>\n",
       "    </tr>\n",
       "    <tr>\n",
       "      <th>3</th>\n",
       "      <td>Phil Dawson</td>\n",
       "      <td>4</td>\n",
       "      <td>K</td>\n",
       "      <td>2018-05-11 00:00:00</td>\n",
       "      <td>200.0</td>\n",
       "      <td>43.0</td>\n",
       "      <td>20</td>\n",
       "      <td>Texas</td>\n",
       "      <td>Arizona Cardinals</td>\n",
       "    </tr>\n",
       "    <tr>\n",
       "      <th>4</th>\n",
       "      <td>Charles Kanoff</td>\n",
       "      <td>6</td>\n",
       "      <td>QB</td>\n",
       "      <td>2018-06-04 00:00:00</td>\n",
       "      <td>219.0</td>\n",
       "      <td>23.0</td>\n",
       "      <td>R</td>\n",
       "      <td>Princeton</td>\n",
       "      <td>Arizona Cardinals</td>\n",
       "    </tr>\n",
       "  </tbody>\n",
       "</table>\n",
       "</div>"
      ],
      "text/plain": [
       "           Player  # Pos                   HT     WT   Age Exp       College  \\\n",
       "0    Matt McCrane  1   K  2018-05-10 00:00:00  165.0  23.0   R  Kansas State   \n",
       "1        Andy Lee  2   P  2018-06-01 00:00:00  185.0  35.0  15    Pittsburgh   \n",
       "2      Josh Rosen  3  QB  2018-06-04 00:00:00  218.0  21.0   R          UCLA   \n",
       "3     Phil Dawson  4   K  2018-05-11 00:00:00  200.0  43.0  20         Texas   \n",
       "4  Charles Kanoff  6  QB  2018-06-04 00:00:00  219.0  23.0   R     Princeton   \n",
       "\n",
       "                Team  \n",
       "0  Arizona Cardinals  \n",
       "1  Arizona Cardinals  \n",
       "2  Arizona Cardinals  \n",
       "3  Arizona Cardinals  \n",
       "4  Arizona Cardinals  "
      ]
     },
     "metadata": {},
     "output_type": "display_data"
    },
    {
     "data": {
      "text/html": [
       "<div>\n",
       "<style scoped>\n",
       "    .dataframe tbody tr th:only-of-type {\n",
       "        vertical-align: middle;\n",
       "    }\n",
       "\n",
       "    .dataframe tbody tr th {\n",
       "        vertical-align: top;\n",
       "    }\n",
       "\n",
       "    .dataframe thead th {\n",
       "        text-align: right;\n",
       "    }\n",
       "</style>\n",
       "<table border=\"1\" class=\"dataframe\">\n",
       "  <thead>\n",
       "    <tr style=\"text-align: right;\">\n",
       "      <th></th>\n",
       "      <th>Rk</th>\n",
       "      <th>Player</th>\n",
       "      <th>Pos</th>\n",
       "      <th>Tm</th>\n",
       "      <th>Cap Hit</th>\n",
       "    </tr>\n",
       "  </thead>\n",
       "  <tbody>\n",
       "    <tr>\n",
       "      <th>0</th>\n",
       "      <td>1.0</td>\n",
       "      <td>Kirk Cousins</td>\n",
       "      <td>QB</td>\n",
       "      <td>WAS</td>\n",
       "      <td>23943600</td>\n",
       "    </tr>\n",
       "    <tr>\n",
       "      <th>1</th>\n",
       "      <td>2.0</td>\n",
       "      <td>Trumaine Johnson</td>\n",
       "      <td>CB</td>\n",
       "      <td>LAR</td>\n",
       "      <td>16742400</td>\n",
       "    </tr>\n",
       "    <tr>\n",
       "      <th>2</th>\n",
       "      <td>3.0</td>\n",
       "      <td>Josh Norman</td>\n",
       "      <td>CB</td>\n",
       "      <td>WAS</td>\n",
       "      <td>16500000</td>\n",
       "    </tr>\n",
       "    <tr>\n",
       "      <th>3</th>\n",
       "      <td>NaN</td>\n",
       "      <td>Von Miller</td>\n",
       "      <td>LB</td>\n",
       "      <td>DEN</td>\n",
       "      <td>16500000</td>\n",
       "    </tr>\n",
       "    <tr>\n",
       "      <th>4</th>\n",
       "      <td>5.0</td>\n",
       "      <td>Justin Houston</td>\n",
       "      <td>LB</td>\n",
       "      <td>KAN</td>\n",
       "      <td>16350000</td>\n",
       "    </tr>\n",
       "  </tbody>\n",
       "</table>\n",
       "</div>"
      ],
      "text/plain": [
       "    Rk            Player Pos   Tm   Cap Hit\n",
       "0  1.0      Kirk Cousins  QB  WAS  23943600\n",
       "1  2.0  Trumaine Johnson  CB  LAR  16742400\n",
       "2  3.0       Josh Norman  CB  WAS  16500000\n",
       "3  NaN        Von Miller  LB  DEN  16500000\n",
       "4  5.0    Justin Houston  LB  KAN  16350000"
      ]
     },
     "metadata": {},
     "output_type": "display_data"
    },
    {
     "data": {
      "text/html": [
       "<div>\n",
       "<style scoped>\n",
       "    .dataframe tbody tr th:only-of-type {\n",
       "        vertical-align: middle;\n",
       "    }\n",
       "\n",
       "    .dataframe tbody tr th {\n",
       "        vertical-align: top;\n",
       "    }\n",
       "\n",
       "    .dataframe thead th {\n",
       "        text-align: right;\n",
       "    }\n",
       "</style>\n",
       "<table border=\"1\" class=\"dataframe\">\n",
       "  <thead>\n",
       "    <tr style=\"text-align: right;\">\n",
       "      <th></th>\n",
       "      <th>NAME</th>\n",
       "      <th>LATITUDE</th>\n",
       "      <th>LONGITUDE</th>\n",
       "      <th>TEAM</th>\n",
       "    </tr>\n",
       "  </thead>\n",
       "  <tbody>\n",
       "    <tr>\n",
       "      <th>0</th>\n",
       "      <td>Lincoln Financial Field</td>\n",
       "      <td>39.90147</td>\n",
       "      <td>-75.16729</td>\n",
       "      <td>Philadelphia Eagles</td>\n",
       "    </tr>\n",
       "    <tr>\n",
       "      <th>1</th>\n",
       "      <td>Qualcomm Stadium</td>\n",
       "      <td>32.78322</td>\n",
       "      <td>-117.11976</td>\n",
       "      <td>San Diego Chargers</td>\n",
       "    </tr>\n",
       "    <tr>\n",
       "      <th>2</th>\n",
       "      <td>Bank of America Stadium</td>\n",
       "      <td>35.22584</td>\n",
       "      <td>-80.85331</td>\n",
       "      <td>Carolina Panthers</td>\n",
       "    </tr>\n",
       "    <tr>\n",
       "      <th>3</th>\n",
       "      <td>Jacksonville Municipal Stadium</td>\n",
       "      <td>30.32387</td>\n",
       "      <td>-81.63690</td>\n",
       "      <td>Jacksonville Jaguars</td>\n",
       "    </tr>\n",
       "    <tr>\n",
       "      <th>4</th>\n",
       "      <td>Soldier Field</td>\n",
       "      <td>41.86250</td>\n",
       "      <td>-87.61677</td>\n",
       "      <td>Chicago Bers</td>\n",
       "    </tr>\n",
       "  </tbody>\n",
       "</table>\n",
       "</div>"
      ],
      "text/plain": [
       "                             NAME  LATITUDE  LONGITUDE                  TEAM\n",
       "0         Lincoln Financial Field  39.90147  -75.16729   Philadelphia Eagles\n",
       "1                Qualcomm Stadium  32.78322 -117.11976    San Diego Chargers\n",
       "2         Bank of America Stadium  35.22584  -80.85331     Carolina Panthers\n",
       "3  Jacksonville Municipal Stadium  30.32387  -81.63690  Jacksonville Jaguars\n",
       "4                   Soldier Field  41.86250  -87.61677          Chicago Bers"
      ]
     },
     "metadata": {},
     "output_type": "display_data"
    }
   ],
   "source": [
    "# Quick Data Exploration\n",
    "display(rosters.head())\n",
    "display(salaries.head())\n",
    "display(stadiums.head())"
   ]
  },
  {
   "cell_type": "markdown",
   "metadata": {},
   "source": [
    "# Plotting our Data\n",
    "Now that we have our data imported, let's give it a go and figure out how to plot our datasets."
   ]
  },
  {
   "cell_type": "markdown",
   "metadata": {},
   "source": [
    "## Rosters"
   ]
  },
  {
   "cell_type": "code",
   "execution_count": 5,
   "metadata": {},
   "outputs": [
    {
     "data": {
      "text/html": [
       "<div>\n",
       "<style scoped>\n",
       "    .dataframe tbody tr th:only-of-type {\n",
       "        vertical-align: middle;\n",
       "    }\n",
       "\n",
       "    .dataframe tbody tr th {\n",
       "        vertical-align: top;\n",
       "    }\n",
       "\n",
       "    .dataframe thead th {\n",
       "        text-align: right;\n",
       "    }\n",
       "</style>\n",
       "<table border=\"1\" class=\"dataframe\">\n",
       "  <thead>\n",
       "    <tr style=\"text-align: right;\">\n",
       "      <th></th>\n",
       "      <th>Player</th>\n",
       "      <th>#</th>\n",
       "      <th>Pos</th>\n",
       "      <th>HT</th>\n",
       "      <th>WT</th>\n",
       "      <th>Age</th>\n",
       "      <th>Exp</th>\n",
       "      <th>College</th>\n",
       "      <th>Team</th>\n",
       "    </tr>\n",
       "  </thead>\n",
       "  <tbody>\n",
       "    <tr>\n",
       "      <th>0</th>\n",
       "      <td>Matt McCrane</td>\n",
       "      <td>1</td>\n",
       "      <td>K</td>\n",
       "      <td>2018-05-10 00:00:00</td>\n",
       "      <td>165.0</td>\n",
       "      <td>23.0</td>\n",
       "      <td>R</td>\n",
       "      <td>Kansas State</td>\n",
       "      <td>Arizona Cardinals</td>\n",
       "    </tr>\n",
       "    <tr>\n",
       "      <th>1</th>\n",
       "      <td>Andy Lee</td>\n",
       "      <td>2</td>\n",
       "      <td>P</td>\n",
       "      <td>2018-06-01 00:00:00</td>\n",
       "      <td>185.0</td>\n",
       "      <td>35.0</td>\n",
       "      <td>15</td>\n",
       "      <td>Pittsburgh</td>\n",
       "      <td>Arizona Cardinals</td>\n",
       "    </tr>\n",
       "    <tr>\n",
       "      <th>2</th>\n",
       "      <td>Josh Rosen</td>\n",
       "      <td>3</td>\n",
       "      <td>QB</td>\n",
       "      <td>2018-06-04 00:00:00</td>\n",
       "      <td>218.0</td>\n",
       "      <td>21.0</td>\n",
       "      <td>R</td>\n",
       "      <td>UCLA</td>\n",
       "      <td>Arizona Cardinals</td>\n",
       "    </tr>\n",
       "    <tr>\n",
       "      <th>3</th>\n",
       "      <td>Phil Dawson</td>\n",
       "      <td>4</td>\n",
       "      <td>K</td>\n",
       "      <td>2018-05-11 00:00:00</td>\n",
       "      <td>200.0</td>\n",
       "      <td>43.0</td>\n",
       "      <td>20</td>\n",
       "      <td>Texas</td>\n",
       "      <td>Arizona Cardinals</td>\n",
       "    </tr>\n",
       "    <tr>\n",
       "      <th>4</th>\n",
       "      <td>Charles Kanoff</td>\n",
       "      <td>6</td>\n",
       "      <td>QB</td>\n",
       "      <td>2018-06-04 00:00:00</td>\n",
       "      <td>219.0</td>\n",
       "      <td>23.0</td>\n",
       "      <td>R</td>\n",
       "      <td>Princeton</td>\n",
       "      <td>Arizona Cardinals</td>\n",
       "    </tr>\n",
       "  </tbody>\n",
       "</table>\n",
       "</div>"
      ],
      "text/plain": [
       "           Player  # Pos                   HT     WT   Age Exp       College  \\\n",
       "0    Matt McCrane  1   K  2018-05-10 00:00:00  165.0  23.0   R  Kansas State   \n",
       "1        Andy Lee  2   P  2018-06-01 00:00:00  185.0  35.0  15    Pittsburgh   \n",
       "2      Josh Rosen  3  QB  2018-06-04 00:00:00  218.0  21.0   R          UCLA   \n",
       "3     Phil Dawson  4   K  2018-05-11 00:00:00  200.0  43.0  20         Texas   \n",
       "4  Charles Kanoff  6  QB  2018-06-04 00:00:00  219.0  23.0   R     Princeton   \n",
       "\n",
       "                Team  \n",
       "0  Arizona Cardinals  \n",
       "1  Arizona Cardinals  \n",
       "2  Arizona Cardinals  \n",
       "3  Arizona Cardinals  \n",
       "4  Arizona Cardinals  "
      ]
     },
     "execution_count": 5,
     "metadata": {},
     "output_type": "execute_result"
    }
   ],
   "source": [
    "rosters.head()"
   ]
  },
  {
   "cell_type": "markdown",
   "metadata": {},
   "source": [
    "### Position Distribution"
   ]
  },
  {
   "cell_type": "code",
   "execution_count": 49,
   "metadata": {},
   "outputs": [
    {
     "data": {
      "text/plain": [
       "<matplotlib.legend.Legend at 0x11fda58e0>"
      ]
     },
     "execution_count": 49,
     "metadata": {},
     "output_type": "execute_result"
    },
    {
     "data": {
      "image/png": "[encoded data removed]",
      "text/plain": [
       "<Figure size 432x288 with 1 Axes>"
      ]
     },
     "metadata": {
      "needs_background": "light"
     },
     "output_type": "display_data"
    }
   ],
   "source": [
    "rosters['Pos'].sample(15, random_state=42).value_counts().plot.barh(title='Position Distribution')\n",
    "\n",
    "plt.xlabel('Count')\n",
    "plt.ylabel('Position')\n",
    "plt.legend()"
   ]
  },
  {
   "cell_type": "markdown",
   "metadata": {},
   "source": [
    "### Team Distribution"
   ]
  },
  {
   "cell_type": "code",
   "execution_count": 50,
   "metadata": {},
   "outputs": [
    {
     "data": {
      "text/plain": [
       "<matplotlib.legend.Legend at 0x11fe22580>"
      ]
     },
     "execution_count": 50,
     "metadata": {},
     "output_type": "execute_result"
    },
    {
     "data": {
      "image/png": "[encoded data removed]",
      "text/plain": [
       "<Figure size 432x288 with 1 Axes>"
      ]
     },
     "metadata": {
      "needs_background": "light"
     },
     "output_type": "display_data"
    }
   ],
   "source": [
    "rosters['Team'].sample(15, random_state=42).value_counts().plot.barh(title='Players by Team')\n",
    "\n",
    "plt.xlabel('Number of Players')\n",
    "plt.ylabel('Team')\n",
    "plt.legend()"
   ]
  },
  {
   "cell_type": "markdown",
   "metadata": {},
   "source": [
    "### Position x Team Comparison"
   ]
  },
  {
   "cell_type": "code",
   "execution_count": 83,
   "metadata": {},
   "outputs": [],
   "source": [
    "wash = rosters.tail(15)\n",
    "ariz = rosters.head(15)\n",
    "\n",
    "rosters_mod = pd.concat([wash, ariz])"
   ]
  },
  {
   "cell_type": "code",
   "execution_count": 84,
   "metadata": {
    "scrolled": false
   },
   "outputs": [
    {
     "data": {
      "text/plain": [
       "<AxesSubplot:xlabel='Team', ylabel='count'>"
      ]
     },
     "execution_count": 84,
     "metadata": {},
     "output_type": "execute_result"
    },
    {
     "data": {
      "image/png": "[encoded data removed]",
      "text/plain": [
       "<Figure size 432x288 with 1 Axes>"
      ]
     },
     "metadata": {
      "needs_background": "light"
     },
     "output_type": "display_data"
    }
   ],
   "source": [
    "sns.countplot(\n",
    "    x='Team',\n",
    "    hue='Pos',\n",
    "    data=rosters_mod\n",
    ")"
   ]
  },
  {
   "cell_type": "markdown",
   "metadata": {},
   "source": [
    "## Salaries"
   ]
  },
  {
   "cell_type": "code",
   "execution_count": 87,
   "metadata": {},
   "outputs": [
    {
     "data": {
      "text/html": [
       "<div>\n",
       "<style scoped>\n",
       "    .dataframe tbody tr th:only-of-type {\n",
       "        vertical-align: middle;\n",
       "    }\n",
       "\n",
       "    .dataframe tbody tr th {\n",
       "        vertical-align: top;\n",
       "    }\n",
       "\n",
       "    .dataframe thead th {\n",
       "        text-align: right;\n",
       "    }\n",
       "</style>\n",
       "<table border=\"1\" class=\"dataframe\">\n",
       "  <thead>\n",
       "    <tr style=\"text-align: right;\">\n",
       "      <th></th>\n",
       "      <th>Rk</th>\n",
       "      <th>Player</th>\n",
       "      <th>Pos</th>\n",
       "      <th>Tm</th>\n",
       "      <th>Cap Hit</th>\n",
       "    </tr>\n",
       "  </thead>\n",
       "  <tbody>\n",
       "    <tr>\n",
       "      <th>0</th>\n",
       "      <td>1.0</td>\n",
       "      <td>Kirk Cousins</td>\n",
       "      <td>QB</td>\n",
       "      <td>WAS</td>\n",
       "      <td>23943600</td>\n",
       "    </tr>\n",
       "    <tr>\n",
       "      <th>1</th>\n",
       "      <td>2.0</td>\n",
       "      <td>Trumaine Johnson</td>\n",
       "      <td>CB</td>\n",
       "      <td>LAR</td>\n",
       "      <td>16742400</td>\n",
       "    </tr>\n",
       "    <tr>\n",
       "      <th>2</th>\n",
       "      <td>3.0</td>\n",
       "      <td>Josh Norman</td>\n",
       "      <td>CB</td>\n",
       "      <td>WAS</td>\n",
       "      <td>16500000</td>\n",
       "    </tr>\n",
       "    <tr>\n",
       "      <th>3</th>\n",
       "      <td>NaN</td>\n",
       "      <td>Von Miller</td>\n",
       "      <td>LB</td>\n",
       "      <td>DEN</td>\n",
       "      <td>16500000</td>\n",
       "    </tr>\n",
       "    <tr>\n",
       "      <th>4</th>\n",
       "      <td>5.0</td>\n",
       "      <td>Justin Houston</td>\n",
       "      <td>LB</td>\n",
       "      <td>KAN</td>\n",
       "      <td>16350000</td>\n",
       "    </tr>\n",
       "  </tbody>\n",
       "</table>\n",
       "</div>"
      ],
      "text/plain": [
       "    Rk            Player Pos   Tm   Cap Hit\n",
       "0  1.0      Kirk Cousins  QB  WAS  23943600\n",
       "1  2.0  Trumaine Johnson  CB  LAR  16742400\n",
       "2  3.0       Josh Norman  CB  WAS  16500000\n",
       "3  NaN        Von Miller  LB  DEN  16500000\n",
       "4  5.0    Justin Houston  LB  KAN  16350000"
      ]
     },
     "execution_count": 87,
     "metadata": {},
     "output_type": "execute_result"
    }
   ],
   "source": [
    "salaries_mod = salaries.head(25)\n",
    "salaries_mod.head()"
   ]
  },
  {
   "cell_type": "code",
   "execution_count": 105,
   "metadata": {},
   "outputs": [
    {
     "data": {
      "text/plain": [
       "Text(0, 0.5, 'Number of Players')"
      ]
     },
     "execution_count": 105,
     "metadata": {},
     "output_type": "execute_result"
    },
    {
     "data": {
      "image/png": "[encoded data removed]",
      "text/plain": [
       "<Figure size 432x288 with 1 Axes>"
      ]
     },
     "metadata": {
      "needs_background": "light"
     },
     "output_type": "display_data"
    }
   ],
   "source": [
    "salaries_mod['Cap Hit'].hist(bins=10)\n",
    "plt.axvline(salaries_mod['Cap Hit'].mean())\n",
    "plt.title('Distribution of NFL Player Salaries')\n",
    "plt.xlabel('Player Salaries')\n",
    "plt.ylabel('Number of Players')"
   ]
  },
  {
   "cell_type": "markdown",
   "metadata": {},
   "source": [
    "## Stadiums"
   ]
  }
 ],
 "metadata": {
  "kernelspec": {
   "display_name": "Python 3",
   "language": "python",
   "name": "python3"
  },
  "language_info": {
   "codemirror_mode": {
    "name": "ipython",
    "version": 3
   },
   "file_extension": ".py",
   "mimetype": "text/x-python",
   "name": "python",
   "nbconvert_exporter": "python",
   "pygments_lexer": "ipython3",
   "version": "3.8.3"
  },
  "toc": {
   "base_numbering": 1,
   "nav_menu": {},
   "number_sections": true,
   "sideBar": true,
   "skip_h1_title": false,
   "title_cell": "Table of Contents",
   "title_sidebar": "Contents",
   "toc_cell": false,
   "toc_position": {},
   "toc_section_display": true,
   "toc_window_display": true
  }
 },
 "nbformat": 4,
 "nbformat_minor": 4
}
