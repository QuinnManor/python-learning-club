{
 "cells": [
  {
   "cell_type": "markdown",
   "metadata": {},
   "source": [
    "# NFL Data Cleaning\n",
    "Using an NFL dataset from 2009 - 2017 to practice data cleaning tactics."
   ]
  },
  {
   "cell_type": "markdown",
   "metadata": {},
   "source": [
    "# Environment Setup\n",
    "## Loading Dependencies"
   ]
  },
  {
   "cell_type": "code",
   "execution_count": null,
   "metadata": {},
   "outputs": [],
   "source": [
    "import pandas as pd\n",
    "import pandas_profiling"
   ]
  },
  {
   "cell_type": "markdown",
   "metadata": {},
   "source": [
    "## Importing Our Hip Hop Dataset\n",
    "Our dataset was found on Kaggle and placed into our working directory. We'll import it from there."
   ]
  },
  {
   "cell_type": "code",
   "execution_count": null,
   "metadata": {},
   "outputs": [],
   "source": [
    "file_path = './NFL Play by Play 2009-2017 (v4).csv' # Defining the file path\n",
    "cols = ['down', 'time', 'TimeSecs', 'PlayTimeDiff', 'SideofField'] # Cols we want to use\n",
    "df = pd.read_csv(file_path, usecols=cols) # Reading in our .csv with pandas"
   ]
  },
  {
   "cell_type": "markdown",
   "metadata": {},
   "source": [
    "Now that our dataframe is imported, we'll copy it to another variable in order to make changes while preserving the imported data."
   ]
  },
  {
   "cell_type": "code",
   "execution_count": null,
   "metadata": {},
   "outputs": [],
   "source": [
    "orig_df = df"
   ]
  },
  {
   "cell_type": "code",
   "execution_count": null,
   "metadata": {
    "scrolled": true
   },
   "outputs": [],
   "source": [
    "# quick data exploration\n",
    "orig_df.profile_report()"
   ]
  },
  {
   "cell_type": "code",
   "execution_count": null,
   "metadata": {
    "scrolled": true
   },
   "outputs": [],
   "source": [
    "# # quick data exploration\n",
    "# orig_df.profile_report(\n",
    "#     missing_diagrams={\n",
    "#         'heatmap': False,\n",
    "#         'dendrogram': False,\n",
    "#         'matrix' : False\n",
    "#     },\n",
    "#     correlations=None,\n",
    "#     interactions=None,\n",
    "#     samples=None,\n",
    "#     duplicates=None\n",
    "# )"
   ]
  },
  {
   "cell_type": "markdown",
   "metadata": {},
   "source": [
    "# Handling Missing Data\n",
    "We can see from the genrated report that the following columns contain missing data:\n",
    "- down\n",
    "- time\n",
    "- TimeSecs\n",
    "- PlayTimeDiff\n",
    "- SideofField"
   ]
  }
 ],
 "metadata": {
  "kernelspec": {
   "display_name": "Python 3",
   "language": "python",
   "name": "python3"
  },
  "language_info": {
   "codemirror_mode": {
    "name": "ipython",
    "version": 3
   },
   "file_extension": ".py",
   "mimetype": "text/x-python",
   "name": "python",
   "nbconvert_exporter": "python",
   "pygments_lexer": "ipython3",
   "version": "3.8.3"
  },
  "toc": {
   "base_numbering": 1,
   "nav_menu": {},
   "number_sections": true,
   "sideBar": true,
   "skip_h1_title": false,
   "title_cell": "Table of Contents",
   "title_sidebar": "Contents",
   "toc_cell": false,
   "toc_position": {},
   "toc_section_display": true,
   "toc_window_display": false
  }
 },
 "nbformat": 4,
 "nbformat_minor": 4
}
